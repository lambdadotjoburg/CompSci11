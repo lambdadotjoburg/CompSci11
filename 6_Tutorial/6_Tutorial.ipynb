{
 "cells": [
  {
   "cell_type": "markdown",
   "id": "cd8322f3",
   "metadata": {},
   "source": [
    "# Python"
   ]
  },
  {
   "cell_type": "markdown",
   "id": "073fed01",
   "metadata": {},
   "source": [
    "## Variables & Data Types"
   ]
  },
  {
   "cell_type": "markdown",
   "id": "7b0f803d",
   "metadata": {},
   "source": [
    "Up to now, we have already encountered some data types:\n",
    "\n",
    "* In the previous tutorial, we introduced the boolean (bool) data types \"True\" and \"False\"\n",
    "* Another really useful data type which often appears in programming is the text/string (str) data type, placed between quotation marks/inverted commas\n",
    "* Next, we will look at numeric data types such as integers (int) and decimals (float)\n",
    "* We also consider sequence data types such as lists (list), tuples (tuple) and intervals (range)\n",
    "* Another interesting data type to consider is the dictionary/key-value pair (dict)\n",
    "* We have already discussed sets (set), however not within the context of python programming syntax"
   ]
  },
  {
   "cell_type": "code",
   "execution_count": 2,
   "id": "26813ed2",
   "metadata": {},
   "outputs": [
    {
     "name": "stdout",
     "output_type": "stream",
     "text": [
      "Once deleted, variables cannot be recovered. Proceed (y/[n])? y\n"
     ]
    }
   ],
   "source": [
    " %reset"
   ]
  },
  {
   "cell_type": "code",
   "execution_count": 8,
   "id": "56021b49",
   "metadata": {},
   "outputs": [
    {
     "name": "stdout",
     "output_type": "stream",
     "text": [
      "True\n",
      "<class 'bool'>\n"
     ]
    }
   ],
   "source": [
    "x = True\n",
    "\n",
    "print(x)\n",
    "print(type(x))"
   ]
  },
  {
   "cell_type": "code",
   "execution_count": 9,
   "id": "9c2fb76c",
   "metadata": {},
   "outputs": [],
   "source": [
    "del x"
   ]
  },
  {
   "cell_type": "code",
   "execution_count": 10,
   "id": "c98d6243",
   "metadata": {},
   "outputs": [
    {
     "name": "stdout",
     "output_type": "stream",
     "text": [
      "This is a string\n",
      "<class 'str'>\n"
     ]
    }
   ],
   "source": [
    "x = \"This is a string\"\n",
    "\n",
    "print(x)\n",
    "print(type(x))"
   ]
  },
  {
   "cell_type": "code",
   "execution_count": 11,
   "id": "60f54479",
   "metadata": {},
   "outputs": [
    {
     "name": "stdout",
     "output_type": "stream",
     "text": [
      "5\n",
      "<class 'int'>\n"
     ]
    }
   ],
   "source": [
    "x = 5\n",
    "\n",
    "print(x)\n",
    "print(type(x))"
   ]
  },
  {
   "cell_type": "code",
   "execution_count": 12,
   "id": "8b4cfc62",
   "metadata": {},
   "outputs": [
    {
     "name": "stdout",
     "output_type": "stream",
     "text": [
      "5\n",
      "<class 'int'>\n"
     ]
    }
   ],
   "source": [
    "x = int(5)\n",
    "\n",
    "print(x)\n",
    "print(type(x))"
   ]
  },
  {
   "cell_type": "code",
   "execution_count": 13,
   "id": "800e1fb2",
   "metadata": {},
   "outputs": [],
   "source": [
    "del x"
   ]
  },
  {
   "cell_type": "code",
   "execution_count": 14,
   "id": "71f6a5d9",
   "metadata": {},
   "outputs": [
    {
     "name": "stdout",
     "output_type": "stream",
     "text": [
      "1.234\n",
      "<class 'float'>\n"
     ]
    }
   ],
   "source": [
    "x = 1.234\n",
    "\n",
    "print(x)\n",
    "print(type(x))"
   ]
  },
  {
   "cell_type": "code",
   "execution_count": 41,
   "id": "08157479",
   "metadata": {},
   "outputs": [
    {
     "name": "stdout",
     "output_type": "stream",
     "text": [
      "1.234\n",
      "<class 'float'>\n"
     ]
    }
   ],
   "source": [
    "x = float(1.234)\n",
    "\n",
    "print(x)\n",
    "print(type(x))"
   ]
  },
  {
   "cell_type": "code",
   "execution_count": 48,
   "id": "d6439b7b",
   "metadata": {},
   "outputs": [
    {
     "name": "stdout",
     "output_type": "stream",
     "text": [
      "['Bob', 'Rob', 'Joe', 5, 'Joe']\n",
      "<class 'list'>\n"
     ]
    }
   ],
   "source": [
    "# Ordered, changeable, and allow duplicate values\n",
    "\n",
    "x = [\"Bob\", \"Rob\", \"Joe\", 5, \"Joe\"]\n",
    "\n",
    "print(x)\n",
    "print(type(x))"
   ]
  },
  {
   "cell_type": "code",
   "execution_count": 49,
   "id": "6b41b299",
   "metadata": {},
   "outputs": [
    {
     "data": {
      "text/plain": [
       "'Bob'"
      ]
     },
     "execution_count": 49,
     "metadata": {},
     "output_type": "execute_result"
    }
   ],
   "source": [
    "x[0]"
   ]
  },
  {
   "cell_type": "code",
   "execution_count": 50,
   "id": "cfb737c0",
   "metadata": {},
   "outputs": [
    {
     "data": {
      "text/plain": [
       "'Rob'"
      ]
     },
     "execution_count": 50,
     "metadata": {},
     "output_type": "execute_result"
    }
   ],
   "source": [
    "x[1]"
   ]
  },
  {
   "cell_type": "code",
   "execution_count": 51,
   "id": "031e0344",
   "metadata": {},
   "outputs": [
    {
     "data": {
      "text/plain": [
       "['Jane', 'Rob', 'Joe', 5, 'Joe']"
      ]
     },
     "execution_count": 51,
     "metadata": {},
     "output_type": "execute_result"
    }
   ],
   "source": [
    "x[0] = \"Jane\"\n",
    "\n",
    "x"
   ]
  },
  {
   "cell_type": "code",
   "execution_count": 52,
   "id": "d6851e62",
   "metadata": {},
   "outputs": [
    {
     "name": "stdout",
     "output_type": "stream",
     "text": [
      "('Bob', 'Rob', 'Joe', 5, 'Joe')\n",
      "<class 'tuple'>\n"
     ]
    }
   ],
   "source": [
    "# Ordered, changeable, and allow duplicate values\n",
    "\n",
    "x = (\"Bob\", \"Rob\", \"Joe\", 5, \"Joe\")\n",
    "\n",
    "print(x)\n",
    "print(type(x))"
   ]
  },
  {
   "cell_type": "code",
   "execution_count": 53,
   "id": "ce2b392a",
   "metadata": {},
   "outputs": [
    {
     "ename": "TypeError",
     "evalue": "'tuple' object does not support item assignment",
     "output_type": "error",
     "traceback": [
      "\u001b[1;31m---------------------------------------------------------------------------\u001b[0m",
      "\u001b[1;31mTypeError\u001b[0m                                 Traceback (most recent call last)",
      "Cell \u001b[1;32mIn[53], line 1\u001b[0m\n\u001b[1;32m----> 1\u001b[0m \u001b[43mx\u001b[49m\u001b[43m[\u001b[49m\u001b[38;5;241;43m0\u001b[39;49m\u001b[43m]\u001b[49m \u001b[38;5;241m=\u001b[39m \u001b[38;5;124m\"\u001b[39m\u001b[38;5;124mJane\u001b[39m\u001b[38;5;124m\"\u001b[39m\n",
      "\u001b[1;31mTypeError\u001b[0m: 'tuple' object does not support item assignment"
     ]
    }
   ],
   "source": [
    "x[0] = \"Jane\""
   ]
  },
  {
   "cell_type": "code",
   "execution_count": 54,
   "id": "dfa45357",
   "metadata": {},
   "outputs": [
    {
     "data": {
      "text/plain": [
       "'Bob'"
      ]
     },
     "execution_count": 54,
     "metadata": {},
     "output_type": "execute_result"
    }
   ],
   "source": [
    "x[0]"
   ]
  },
  {
   "cell_type": "code",
   "execution_count": 55,
   "id": "3ff9c831",
   "metadata": {},
   "outputs": [
    {
     "name": "stdout",
     "output_type": "stream",
     "text": [
      "{'Bob': 'Dylan', 'Rob': 'Zombie', 'Joe': 'Rogan'}\n",
      "<class 'dict'>\n"
     ]
    }
   ],
   "source": [
    "# Ordered, changeable and do not allow duplicates\n",
    "\n",
    "x = {\n",
    "  \"Bob\": \"Dylan\",\n",
    "  \"Rob\": \"Zombie\",\n",
    "  \"Joe\": \"Rogan\"\n",
    "}\n",
    "\n",
    "print(x)\n",
    "print(type(x))"
   ]
  },
  {
   "cell_type": "code",
   "execution_count": 58,
   "id": "e940cd83",
   "metadata": {},
   "outputs": [
    {
     "data": {
      "text/plain": [
       "'Dylan'"
      ]
     },
     "execution_count": 58,
     "metadata": {},
     "output_type": "execute_result"
    }
   ],
   "source": [
    "x[\"Bob\"]"
   ]
  },
  {
   "cell_type": "code",
   "execution_count": 59,
   "id": "c3fda15f",
   "metadata": {},
   "outputs": [
    {
     "data": {
      "text/plain": [
       "'Zombie'"
      ]
     },
     "execution_count": 59,
     "metadata": {},
     "output_type": "execute_result"
    }
   ],
   "source": [
    "x[\"Rob\"]"
   ]
  },
  {
   "cell_type": "code",
   "execution_count": 60,
   "id": "c6dc19e1",
   "metadata": {},
   "outputs": [
    {
     "name": "stdout",
     "output_type": "stream",
     "text": [
      "{'Rob', 'Joe', 'Bob'}\n",
      "<class 'set'>\n"
     ]
    }
   ],
   "source": [
    "# Unordered, unchangeable, and unindexed\n",
    "\n",
    "x = {\"Bob\", \"Rob\", \"Joe\"}\n",
    "\n",
    "print(x)\n",
    "print(type(x))"
   ]
  },
  {
   "cell_type": "code",
   "execution_count": 64,
   "id": "206a0783",
   "metadata": {},
   "outputs": [
    {
     "data": {
      "text/plain": [
       "{'Bob', 'Joe', 'Rob'}"
      ]
     },
     "execution_count": 64,
     "metadata": {},
     "output_type": "execute_result"
    }
   ],
   "source": [
    "x"
   ]
  },
  {
   "cell_type": "code",
   "execution_count": 65,
   "id": "13e525b3",
   "metadata": {},
   "outputs": [
    {
     "ename": "TypeError",
     "evalue": "'set' object is not subscriptable",
     "output_type": "error",
     "traceback": [
      "\u001b[1;31m---------------------------------------------------------------------------\u001b[0m",
      "\u001b[1;31mTypeError\u001b[0m                                 Traceback (most recent call last)",
      "Cell \u001b[1;32mIn[65], line 1\u001b[0m\n\u001b[1;32m----> 1\u001b[0m \u001b[43mx\u001b[49m\u001b[43m[\u001b[49m\u001b[38;5;241;43m0\u001b[39;49m\u001b[43m]\u001b[49m\n",
      "\u001b[1;31mTypeError\u001b[0m: 'set' object is not subscriptable"
     ]
    }
   ],
   "source": [
    "x[0]"
   ]
  },
  {
   "cell_type": "markdown",
   "id": "b8abc280",
   "metadata": {},
   "source": [
    "## Relations"
   ]
  },
  {
   "cell_type": "markdown",
   "id": "d2255b91",
   "metadata": {},
   "source": [
    "***Definition:***\n",
    "\n",
    "Given a set $X$, a relation $R$ over $X$ is a subset of ordered pairs of elements from $X$, i.e. $R ⊆ \\{(x,y): x,y ∈ X\\}$\n",
    "\n",
    "The statement $(x, y) \\in R$ reads \"$x$ is $R$-related to $y$\" usually written in infix notation as $xRy$."
   ]
  },
  {
   "cell_type": "markdown",
   "id": "b2d7f799",
   "metadata": {},
   "source": [
    "* Example of a more abstract relation: Jakob Dylan is the son of Bob Dylan\n",
    "\n",
    "  If we denote Jacob by $j$ and Bob by $b$, then using infix notation, we can write this relation as $jSb$, where $S$ is interpreted to mean \"son of\" <br>\n",
    "  \n",
    "  Notice that this relation is not symmetric, as it is not true that $bSj$ <br><br>\n",
    "\n",
    "* Less than $<$ as in $1 < 2$ <br>\n",
    "\n",
    "* Less than or equal to $\\leq$ as in $3 \\leq 3$ <br>\n",
    "\n",
    "* Greater than $>$ as in $ 5 > 4 $ <br>\n",
    "\n",
    "* Greater than or equal to $\\geq$ as in $ 7 \\geq 6 $ <br>\n",
    "\n",
    "* Test for equality == as in $ 8 $ == $ 8 $ or $\"string\" == \"string\"$ <br>\n",
    "\n",
    "* Test for non-equality != as in $ 8 $ != $ 9 $ <br>\n",
    "\n",
    "* Divisibility | as in $ 3 \\space | \\space 9 $ but $9 \\nmid 3$ <br><br>\n",
    "  \n",
    "* Example of a relation in set builder notation:\n",
    "\n",
    "  Consider the two sets $A = \\{9, 16, 25\\}$ and $B = \\{5, 4, 3, -3, -4, -5\\}$ <br>\n",
    "  \n",
    "  The relation is that the elements of $A$ are the square of the elements of $B$\n",
    "  \n",
    "  In set-builder form $S = \\{ (x, y): x \\space \\text{is the square of} \\space y, x ∈ A \\space \\text{and} \\space y ∈ B \\}$\n",
    "  \n",
    "  In this example, the expressions $9 S 3$ and $(9, 3) \\in S$ have the same meaning"
   ]
  },
  {
   "cell_type": "code",
   "execution_count": 66,
   "id": "9a92514b",
   "metadata": {},
   "outputs": [
    {
     "name": "stdout",
     "output_type": "stream",
     "text": [
      "True\n"
     ]
    }
   ],
   "source": [
    "if (2>1):\n",
    "    print(True)\n",
    "else:\n",
    "    print(False)"
   ]
  },
  {
   "cell_type": "code",
   "execution_count": 67,
   "id": "183c2bee",
   "metadata": {},
   "outputs": [
    {
     "name": "stdout",
     "output_type": "stream",
     "text": [
      "False\n"
     ]
    }
   ],
   "source": [
    "if (2<1):\n",
    "    print(True)\n",
    "else:\n",
    "    print(False)"
   ]
  },
  {
   "cell_type": "code",
   "execution_count": 68,
   "id": "251904e9",
   "metadata": {},
   "outputs": [
    {
     "name": "stdout",
     "output_type": "stream",
     "text": [
      "True\n"
     ]
    }
   ],
   "source": [
    "if (1>=1):\n",
    "    print(True)\n",
    "else:\n",
    "    print(False)"
   ]
  },
  {
   "cell_type": "code",
   "execution_count": 69,
   "id": "68c2c120",
   "metadata": {},
   "outputs": [
    {
     "name": "stdout",
     "output_type": "stream",
     "text": [
      "False\n"
     ]
    }
   ],
   "source": [
    "if (1>1):\n",
    "    print(True)\n",
    "else:\n",
    "    print(False)"
   ]
  },
  {
   "cell_type": "code",
   "execution_count": 70,
   "id": "e654294a",
   "metadata": {},
   "outputs": [
    {
     "name": "stdout",
     "output_type": "stream",
     "text": [
      "False\n"
     ]
    }
   ],
   "source": [
    "if (1==2):\n",
    "    print(True)\n",
    "else:\n",
    "    print(False)"
   ]
  },
  {
   "cell_type": "code",
   "execution_count": 71,
   "id": "f5c5d361",
   "metadata": {},
   "outputs": [
    {
     "name": "stdout",
     "output_type": "stream",
     "text": [
      "True\n"
     ]
    }
   ],
   "source": [
    "if (\"string\" == \"string\"):\n",
    "    print(True)\n",
    "else:\n",
    "    print(False)"
   ]
  },
  {
   "cell_type": "code",
   "execution_count": 72,
   "id": "abdb5e44",
   "metadata": {},
   "outputs": [
    {
     "name": "stdout",
     "output_type": "stream",
     "text": [
      "False\n"
     ]
    }
   ],
   "source": [
    "if (\"string\" == \"String\"):\n",
    "    print(True)\n",
    "else:\n",
    "    print(False)"
   ]
  },
  {
   "cell_type": "markdown",
   "id": "8f386737",
   "metadata": {},
   "source": [
    "Relations have different properties, depending on the given interpretation of the relation itself, for example, the standard interpretation of $\\geq$ on the natural numbers $\\mathbb{N}$ is reflexive but $>$ is not, i.e. $\\geq$ satisfies the axiom that for all $ x \\in R, x R x $, but $>$ does not."
   ]
  },
  {
   "cell_type": "markdown",
   "id": "7d7f7ad4",
   "metadata": {},
   "source": [
    "We can talk about relations for the remainder of the tutorial, but this would be outside the scope of the lesson, so we merely brief over the important aspects of relations in general and rather focus on how to implement these in the python programming language to start writing useful programs.\n",
    "\n",
    "Not all relations will be required for all practical purposes, but to get started with programming, you should be familiar with some of the basic relations which are used regularly, such as the ones listed above."
   ]
  },
  {
   "cell_type": "markdown",
   "id": "c24797f1",
   "metadata": {},
   "source": [
    "## Operations"
   ]
  },
  {
   "cell_type": "markdown",
   "id": "06b92d32",
   "metadata": {},
   "source": [
    "A set $X$ of elements is said to be closed under an operation $*$ if for any two elements $a$ and $b$ in $X$, the algebraic result $a*b$ is again in $X$"
   ]
  },
  {
   "cell_type": "code",
   "execution_count": 73,
   "id": "fa84c909",
   "metadata": {},
   "outputs": [
    {
     "data": {
      "text/plain": [
       "3"
      ]
     },
     "execution_count": 73,
     "metadata": {},
     "output_type": "execute_result"
    }
   ],
   "source": [
    "1+2"
   ]
  },
  {
   "cell_type": "code",
   "execution_count": 74,
   "id": "97eef7dd",
   "metadata": {},
   "outputs": [
    {
     "data": {
      "text/plain": [
       "2.3"
      ]
     },
     "execution_count": 74,
     "metadata": {},
     "output_type": "execute_result"
    }
   ],
   "source": [
    "1.1 + 1.2"
   ]
  },
  {
   "cell_type": "markdown",
   "id": "2dba14b0",
   "metadata": {},
   "source": [
    "Much the same as with adequacy of logical connectives, we can express the necessary useful operations in terms of more fundamental operations such as addition & subtraction. In fact, multiplication is but repeated addition and division is but repeated subtraction. However, there is no need to restrict ourselves because python has all of these built in operations available to our disposal:"
   ]
  },
  {
   "cell_type": "code",
   "execution_count": 75,
   "id": "8f7d3d04",
   "metadata": {},
   "outputs": [
    {
     "data": {
      "text/plain": [
       "1"
      ]
     },
     "execution_count": 75,
     "metadata": {},
     "output_type": "execute_result"
    }
   ],
   "source": [
    "3-2"
   ]
  },
  {
   "cell_type": "code",
   "execution_count": 76,
   "id": "7b07cb42",
   "metadata": {},
   "outputs": [
    {
     "name": "stdout",
     "output_type": "stream",
     "text": [
      "-0.8\n"
     ]
    }
   ],
   "source": [
    "a = 1.9-2.7\n",
    "\n",
    "print(round(a,1))"
   ]
  },
  {
   "cell_type": "code",
   "execution_count": 77,
   "id": "ecb1ed41",
   "metadata": {},
   "outputs": [
    {
     "data": {
      "text/plain": [
       "6"
      ]
     },
     "execution_count": 77,
     "metadata": {},
     "output_type": "execute_result"
    }
   ],
   "source": [
    "2*3"
   ]
  },
  {
   "cell_type": "code",
   "execution_count": 78,
   "id": "c1682ff8",
   "metadata": {},
   "outputs": [
    {
     "data": {
      "text/plain": [
       "7.26"
      ]
     },
     "execution_count": 78,
     "metadata": {},
     "output_type": "execute_result"
    }
   ],
   "source": [
    "2.2*3.3"
   ]
  },
  {
   "cell_type": "code",
   "execution_count": 79,
   "id": "aad8a1d5",
   "metadata": {},
   "outputs": [
    {
     "data": {
      "text/plain": [
       "8"
      ]
     },
     "execution_count": 79,
     "metadata": {},
     "output_type": "execute_result"
    }
   ],
   "source": [
    "2**3"
   ]
  },
  {
   "cell_type": "code",
   "execution_count": 80,
   "id": "83669eab",
   "metadata": {},
   "outputs": [
    {
     "data": {
      "text/plain": [
       "2.0"
      ]
     },
     "execution_count": 80,
     "metadata": {},
     "output_type": "execute_result"
    }
   ],
   "source": [
    "4**0.5"
   ]
  },
  {
   "cell_type": "code",
   "execution_count": 81,
   "id": "6ddade34",
   "metadata": {},
   "outputs": [
    {
     "data": {
      "text/plain": [
       "2.0"
      ]
     },
     "execution_count": 81,
     "metadata": {},
     "output_type": "execute_result"
    }
   ],
   "source": [
    "import math\n",
    "\n",
    "math.sqrt(4)"
   ]
  },
  {
   "cell_type": "code",
   "execution_count": 82,
   "id": "f1768181",
   "metadata": {},
   "outputs": [
    {
     "data": {
      "text/plain": [
       "2.0"
      ]
     },
     "execution_count": 82,
     "metadata": {},
     "output_type": "execute_result"
    }
   ],
   "source": [
    "6/3"
   ]
  },
  {
   "cell_type": "code",
   "execution_count": 83,
   "id": "d067b559",
   "metadata": {},
   "outputs": [
    {
     "data": {
      "text/plain": [
       "3.5"
      ]
     },
     "execution_count": 83,
     "metadata": {},
     "output_type": "execute_result"
    }
   ],
   "source": [
    "7/2"
   ]
  },
  {
   "cell_type": "code",
   "execution_count": 84,
   "id": "587153eb",
   "metadata": {},
   "outputs": [
    {
     "data": {
      "text/plain": [
       "2.4545454545454546"
      ]
     },
     "execution_count": 84,
     "metadata": {},
     "output_type": "execute_result"
    }
   ],
   "source": [
    "8.1/3.3"
   ]
  },
  {
   "cell_type": "markdown",
   "id": "78bbbbe8",
   "metadata": {},
   "source": [
    "## Modulo "
   ]
  },
  {
   "cell_type": "code",
   "execution_count": 85,
   "id": "a4228839",
   "metadata": {},
   "outputs": [
    {
     "data": {
      "text/plain": [
       "0"
      ]
     },
     "execution_count": 85,
     "metadata": {},
     "output_type": "execute_result"
    }
   ],
   "source": [
    "4 % 2"
   ]
  },
  {
   "cell_type": "code",
   "execution_count": 86,
   "id": "9462d06d",
   "metadata": {},
   "outputs": [
    {
     "data": {
      "text/plain": [
       "1"
      ]
     },
     "execution_count": 86,
     "metadata": {},
     "output_type": "execute_result"
    }
   ],
   "source": [
    "5 % 2"
   ]
  },
  {
   "cell_type": "code",
   "execution_count": 87,
   "id": "dbe1a8e3",
   "metadata": {},
   "outputs": [
    {
     "data": {
      "text/plain": [
       "0"
      ]
     },
     "execution_count": 87,
     "metadata": {},
     "output_type": "execute_result"
    }
   ],
   "source": [
    "6 % 3"
   ]
  },
  {
   "cell_type": "code",
   "execution_count": 88,
   "id": "166ed3b8",
   "metadata": {},
   "outputs": [
    {
     "data": {
      "text/plain": [
       "2"
      ]
     },
     "execution_count": 88,
     "metadata": {},
     "output_type": "execute_result"
    }
   ],
   "source": [
    "11 % 3"
   ]
  },
  {
   "cell_type": "markdown",
   "id": "6d6b7508",
   "metadata": {},
   "source": [
    "## Incrementing  &  Decrementing"
   ]
  },
  {
   "cell_type": "code",
   "execution_count": 89,
   "id": "2a0de083",
   "metadata": {},
   "outputs": [
    {
     "name": "stdout",
     "output_type": "stream",
     "text": [
      "2\n"
     ]
    }
   ],
   "source": [
    "i = 1\n",
    "\n",
    "i += 1\n",
    "\n",
    "print(i)"
   ]
  },
  {
   "cell_type": "code",
   "execution_count": 90,
   "id": "df2ac46a",
   "metadata": {},
   "outputs": [
    {
     "name": "stdout",
     "output_type": "stream",
     "text": [
      "2\n"
     ]
    }
   ],
   "source": [
    "i = 1\n",
    "\n",
    "i = i + 1\n",
    "\n",
    "print(i)"
   ]
  },
  {
   "cell_type": "code",
   "execution_count": 91,
   "id": "afc46388",
   "metadata": {},
   "outputs": [
    {
     "name": "stdout",
     "output_type": "stream",
     "text": [
      "1\n"
     ]
    }
   ],
   "source": [
    "j = 3\n",
    "\n",
    "j -= 2\n",
    "\n",
    "print(j)"
   ]
  },
  {
   "cell_type": "code",
   "execution_count": 92,
   "id": "f20f6cf7",
   "metadata": {},
   "outputs": [
    {
     "name": "stdout",
     "output_type": "stream",
     "text": [
      "1\n"
     ]
    }
   ],
   "source": [
    "j = 3\n",
    "\n",
    "j = j - 2\n",
    "\n",
    "print(j)"
   ]
  },
  {
   "cell_type": "code",
   "execution_count": null,
   "id": "faf09610",
   "metadata": {},
   "outputs": [],
   "source": []
  }
 ],
 "metadata": {
  "kernelspec": {
   "display_name": "Python 3 (ipykernel)",
   "language": "python",
   "name": "python3"
  },
  "language_info": {
   "codemirror_mode": {
    "name": "ipython",
    "version": 3
   },
   "file_extension": ".py",
   "mimetype": "text/x-python",
   "name": "python",
   "nbconvert_exporter": "python",
   "pygments_lexer": "ipython3",
   "version": "3.11.2"
  }
 },
 "nbformat": 4,
 "nbformat_minor": 5
}
