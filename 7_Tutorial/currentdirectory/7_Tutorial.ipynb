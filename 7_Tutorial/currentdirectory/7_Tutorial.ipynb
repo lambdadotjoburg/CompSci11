{
 "cells": [
  {
   "cell_type": "markdown",
   "id": "3c3fb8b6",
   "metadata": {},
   "source": [
    "# Python"
   ]
  },
  {
   "cell_type": "markdown",
   "id": "0ec75094",
   "metadata": {},
   "source": [
    "## Input & File Handling"
   ]
  },
  {
   "cell_type": "code",
   "execution_count": 1,
   "id": "810484f8",
   "metadata": {},
   "outputs": [
    {
     "name": "stdout",
     "output_type": "stream",
     "text": [
      "Enter your name\n",
      "\n",
      "Hello \n"
     ]
    }
   ],
   "source": [
    "print(\"Enter your name\")\n",
    "\n",
    "name = input()\n",
    "\n",
    "print(\"Hello \" + name)"
   ]
  },
  {
   "cell_type": "code",
   "execution_count": 2,
   "id": "3d65097a",
   "metadata": {},
   "outputs": [
    {
     "name": "stdout",
     "output_type": "stream",
     "text": [
      "Once deleted, variables cannot be recovered. Proceed (y/[n])? \n",
      "Nothing done.\n"
     ]
    }
   ],
   "source": [
    "%reset"
   ]
  },
  {
   "cell_type": "code",
   "execution_count": 3,
   "id": "1d8c2efb",
   "metadata": {},
   "outputs": [],
   "source": [
    "import os"
   ]
  },
  {
   "cell_type": "code",
   "execution_count": 4,
   "id": "7995b609",
   "metadata": {},
   "outputs": [
    {
     "name": "stdout",
     "output_type": "stream",
     "text": [
      "This .txt file lives inside the current directory\n",
      "\n"
     ]
    }
   ],
   "source": [
    "# Read .txt (text) file in current directory\n",
    "\n",
    "file_name = \"C:\\\\Users\\\\Frank\\\\Desktop\\\\Jupyter Notebook\\\\7_Tutorial\\\\currentdirectory\\\\currentdirectory.txt\"\n",
    "\n",
    "f = open(file_name, \"r\")\n",
    "\n",
    "print(f.read())"
   ]
  },
  {
   "cell_type": "code",
   "execution_count": 5,
   "id": "2cd1f0de",
   "metadata": {},
   "outputs": [
    {
     "name": "stdout",
     "output_type": "stream",
     "text": [
      "This .txt file lives in a subdirectory of the python jupyter notebook file\n"
     ]
    }
   ],
   "source": [
    "# Read .txt (text) file in subdirectory\n",
    "\n",
    "file_name = \"C:\\\\Users\\\\Frank\\\\Desktop\\\\Jupyter Notebook\\\\7_Tutorial\\currentdirectory\\\\subdirectory\\\\subdirectory.txt\"\n",
    "\n",
    "f = open(file_name, \"r\")\n",
    "\n",
    "print(f.read())"
   ]
  },
  {
   "cell_type": "code",
   "execution_count": 6,
   "id": "97164e4e",
   "metadata": {},
   "outputs": [
    {
     "name": "stdout",
     "output_type": "stream",
     "text": [
      "This .txt file lives in the super/parent directory of the python jupyter notebook file\n"
     ]
    }
   ],
   "source": [
    "# Read .txt (text) file in super/parent directory\n",
    "\n",
    "file_name = \"C:\\\\Users\\\\Frank\\\\Desktop\\\\Jupyter Notebook\\\\7_Tutorial\\\\superdirectory.txt\"\n",
    "\n",
    "f = open(file_name, \"r\")\n",
    "\n",
    "print(f.read())"
   ]
  },
  {
   "cell_type": "code",
   "execution_count": 7,
   "id": "d65f47ef",
   "metadata": {},
   "outputs": [
    {
     "name": "stdout",
     "output_type": "stream",
     "text": [
      "This .txt file lives in an alternate directory of the python jupyter notebook file\n"
     ]
    }
   ],
   "source": [
    "# Read .txt (text) file in alternate directory\n",
    "\n",
    "file_name = \"C:\\\\Users\\\\Frank\\\\Desktop\\\\Jupyter Notebook\\\\7_Tutorial\\\\alternatedirectory\\\\alternatedirectory.txt\"\n",
    "\n",
    "f = open(file_name, \"r\")\n",
    "\n",
    "print(f.read())"
   ]
  },
  {
   "cell_type": "code",
   "execution_count": 8,
   "id": "e0507fdb",
   "metadata": {},
   "outputs": [
    {
     "name": "stdout",
     "output_type": "stream",
     "text": [
      "\\documentclass[12pt, letterpaper, twoside]{article}\n",
      "\\usepackage[utf8]{inputenc}\n",
      "\n",
      "\\title{Title}\n",
      "\n",
      "%% 1\n",
      "%% 2\n",
      "%% 3\n",
      "%% 4\n",
      "%% 5\n",
      "%% 6\n",
      "%% 7\n",
      "%% 8\n",
      "%% 9\n",
      "%% 10\n",
      "\n",
      "\\author{Lambda}\n",
      "\n",
      "\\date{\\today}\n",
      "\n",
      "\\begin{document}\n",
      "\n",
      "\\begin{titlepage}\n",
      "\\maketitle\n",
      "\\end{titlepage}\n",
      "\n",
      "This is a latex document\n",
      "\n",
      "\\end{document}\n"
     ]
    }
   ],
   "source": [
    "# Read .tex (Latex) file in current directory\n",
    "\n",
    "file_name = \"C:\\\\Users\\\\Frank\\\\Desktop\\\\Jupyter Notebook\\\\7_Tutorial\\\\currentdirectory\\\\currentdirectory.tex\"\n",
    "\n",
    "f = open(file_name, \"r\")\n",
    "\n",
    "print(f.read())"
   ]
  },
  {
   "cell_type": "code",
   "execution_count": 9,
   "id": "2d76a808",
   "metadata": {},
   "outputs": [],
   "source": [
    "# Define a replace_line python function for writing to .txt file\n",
    "\n",
    "def replace_line(file_name, text):\n",
    "    \n",
    "    out = open(file_name, 'w')\n",
    "    out.write(text)\n",
    "    out.close()"
   ]
  },
  {
   "cell_type": "code",
   "execution_count": 10,
   "id": "2c6640cb",
   "metadata": {},
   "outputs": [],
   "source": [
    " # Run replace_line python function\n",
    "\n",
    "text = 'This is a new string' + '\\n'\n",
    "\n",
    "file_path = \"C:\\\\Users\\\\Frank\\\\Desktop\\\\Jupyter Notebook\\\\7_Tutorial\\\\currentdirectory\\\\currentdirectory.txt\"\n",
    "\n",
    "replace_line(file_path, text) "
   ]
  },
  {
   "cell_type": "code",
   "execution_count": 11,
   "id": "6bbdd3a8",
   "metadata": {},
   "outputs": [],
   "source": [
    "# Define a replace_line python function\n",
    "\n",
    "def replace_line(file_name, line_num, text):\n",
    "    \n",
    "    lines = open(file_name, 'r').readlines()\n",
    "    lines[line_num] = text\n",
    "    \n",
    "    out = open(file_name, 'w')\n",
    "    out.writelines(lines)\n",
    "    out.close()"
   ]
  },
  {
   "cell_type": "code",
   "execution_count": 15,
   "id": "d7c5aafe",
   "metadata": {},
   "outputs": [],
   "source": [
    "# Run replace_line python function\n",
    "\n",
    "title = '\\\\title{Title}' + '\\n'\n",
    "\n",
    "file_path = \"C:\\\\Users\\\\Frank\\\\Desktop\\\\Jupyter Notebook\\\\7_Tutorial\\\\currentdirectory\\\\currentdirectory.tex\"\n",
    "\n",
    "replace_line(file_path, 3, title)"
   ]
  },
  {
   "cell_type": "code",
   "execution_count": 16,
   "id": "5d6795ef",
   "metadata": {},
   "outputs": [],
   "source": [
    "# Change the title back to original title\n",
    "\n",
    "title = '\\\\title{Document}' + '\\n'\n",
    "\n",
    "file_path = \"C:\\\\Users\\\\Frank\\\\Desktop\\\\Jupyter Notebook\\\\7_Tutorial\\\\currentdirectory\\\\currentdirectory.tex\"\n",
    "\n",
    "replace_line(file_path, 3, title)"
   ]
  },
  {
   "cell_type": "code",
   "execution_count": 17,
   "id": "94d626c9",
   "metadata": {},
   "outputs": [
    {
     "data": {
      "text/plain": [
       "0"
      ]
     },
     "execution_count": 17,
     "metadata": {},
     "output_type": "execute_result"
    }
   ],
   "source": [
    "# Run pdflatex to compile .pdf document in python jupyter notebook\n",
    "\n",
    "# Must have MikTeX Installed beforehand\n",
    "\n",
    "# Check for MikTeX updates\n",
    "\n",
    "# pip install pdflatex (This should come installed with MikTex)\n",
    "\n",
    "full_path = \"C:\\\\Users\\\\Frank\\\\Desktop\\\\Jupyter Notebook\\\\7_Tutorial\\\\currentdirectory\\\\currentdirectory.tex\"\n",
    "\n",
    "file_name = \"currentdirectory.tex\"\n",
    "\n",
    "os.system(f\"pdflatex {file_name}\")"
   ]
  },
  {
   "cell_type": "code",
   "execution_count": 19,
   "id": "51304c69",
   "metadata": {},
   "outputs": [],
   "source": [
    "# Open .tex file from python jupyter notebook\n",
    "\n",
    "file_name = \"currentdirectory.tex\"\n",
    "\n",
    "os.startfile(file_name)"
   ]
  },
  {
   "cell_type": "code",
   "execution_count": 20,
   "id": "a6dde147",
   "metadata": {},
   "outputs": [
    {
     "data": {
      "text/plain": [
       "0"
      ]
     },
     "execution_count": 20,
     "metadata": {},
     "output_type": "execute_result"
    }
   ],
   "source": [
    "# Copy file to a different directory\n",
    "\n",
    "file_name_output = \"currentdirectory.pdf\"\n",
    "\n",
    "file_destination = \"C:\\\\Users\\\\Frank\\\\Desktop\\\\desktop.pdf\"\n",
    "\n",
    "os.system(f\"copy {file_name_output} {file_destination}\")"
   ]
  },
  {
   "cell_type": "code",
   "execution_count": 21,
   "id": "6c7dce8f",
   "metadata": {},
   "outputs": [
    {
     "data": {
      "text/plain": [
       "0"
      ]
     },
     "execution_count": 21,
     "metadata": {},
     "output_type": "execute_result"
    }
   ],
   "source": [
    "# Compile .tex file to a .pdf file and save .pdf file to a different directory\n",
    "\n",
    "# Must have MikTeX Installed beforehand\n",
    "\n",
    "# Check for MikTeX updates\n",
    "\n",
    "# pip install pdflatex (This should come installed with MikTex)\n",
    "\n",
    "full_path = \"C:\\\\Users\\\\Frank\\\\Desktop\\\\Jupyter Notebook\\\\7_Tutorial\\\\currentdirectory\\\\currentdirectory.tex\"\n",
    "\n",
    "file_name = \"currentdirectory.tex\"\n",
    "\n",
    "os.system(f\"pdflatex --output-directory=C:\\\\Users\\\\Frank\\\\Desktop currentdirectory.tex\")"
   ]
  },
  {
   "cell_type": "code",
   "execution_count": 22,
   "id": "ec3b3b31",
   "metadata": {},
   "outputs": [
    {
     "name": "stdout",
     "output_type": "stream",
     "text": [
      "Once deleted, variables cannot be recovered. Proceed (y/[n])? y\n"
     ]
    }
   ],
   "source": [
    "%reset"
   ]
  },
  {
   "cell_type": "code",
   "execution_count": 23,
   "id": "50c8aeb9",
   "metadata": {},
   "outputs": [
    {
     "name": "stdout",
     "output_type": "stream",
     "text": [
      "This .docx file lives in the current directory of the python jupyter notebook file\n"
     ]
    }
   ],
   "source": [
    "# Read .docx (word) file\n",
    "\n",
    "# pip install docx2txt\n",
    "\n",
    "import docx2txt\n",
    "\n",
    "paragraph = docx2txt.process(\"C:\\\\Users\\\\Frank\\\\Desktop\\\\Jupyter Notebook\\\\7_Tutorial\\\\currentdirectory\\\\currentdirectory.docx\")\n",
    "\n",
    "print(paragraph)"
   ]
  },
  {
   "cell_type": "code",
   "execution_count": 24,
   "id": "e6f8a06b",
   "metadata": {},
   "outputs": [
    {
     "name": "stdout",
     "output_type": "stream",
     "text": [
      "This .doc file lives in the current directory of the python jupyter notebook file\n"
     ]
    }
   ],
   "source": [
    "# Read .docx (word) file\n",
    "\n",
    "# pip install docx2txt\n",
    "\n",
    "import docx2txt\n",
    "\n",
    "paragraph = docx2txt.process(\"C:\\\\Users\\\\Frank\\\\Desktop\\\\Jupyter Notebook\\\\7_Tutorial\\\\currentdirectory\\\\currentdirectory.doc\")\n",
    "\n",
    "print(paragraph)"
   ]
  },
  {
   "cell_type": "code",
   "execution_count": 25,
   "id": "ae0b4e72",
   "metadata": {},
   "outputs": [],
   "source": [
    "# Manipulate .docx & .doc (word) file\n",
    "\n",
    "# pip install python-docx\n",
    "\n",
    "# Import docx NOT python-docx\n",
    "import docx\n",
    "\n",
    "# Import font size library Pt\n",
    "from docx.shared import Pt\n",
    "  \n",
    "# Create an instance of a word document\n",
    "doc = docx.Document()\n",
    "  \n",
    "# Add a Title to the document \n",
    "doc.add_heading('Big Heading/Title', 0)\n",
    "  \n",
    "# Add a heading\n",
    "doc.add_heading('Heading', 1)\n",
    "\n",
    "# Create a plain paragraph\n",
    "para = doc.add_paragraph().add_run('This is a paragraph')\n",
    "\n",
    "# Change the font size of the paragraph defined above by para\n",
    "para.font.size = Pt(24)\n",
    "  \n",
    "# Add a heading\n",
    "doc.add_heading('Heading', 3)\n",
    "\n",
    "# Adding paragraph with normal font size\n",
    "doc.add_paragraph('This is a paragraph with normal font size')\n",
    "  \n",
    "# Now save the document to a location \n",
    "doc.save('document.docx')"
   ]
  },
  {
   "cell_type": "code",
   "execution_count": null,
   "id": "4826db5d",
   "metadata": {},
   "outputs": [],
   "source": [
    " "
   ]
  }
 ],
 "metadata": {
  "kernelspec": {
   "display_name": "Python 3 (ipykernel)",
   "language": "python",
   "name": "python3"
  },
  "language_info": {
   "codemirror_mode": {
    "name": "ipython",
    "version": 3
   },
   "file_extension": ".py",
   "mimetype": "text/x-python",
   "name": "python",
   "nbconvert_exporter": "python",
   "pygments_lexer": "ipython3",
   "version": "3.11.2"
  }
 },
 "nbformat": 4,
 "nbformat_minor": 5
}
