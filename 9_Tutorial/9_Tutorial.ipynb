{
 "cells": [
  {
   "cell_type": "markdown",
   "id": "531b7adb",
   "metadata": {},
   "source": [
    "# Python"
   ]
  },
  {
   "cell_type": "markdown",
   "id": "6d2dcf16",
   "metadata": {},
   "source": [
    "## Mathematics & Physics"
   ]
  },
  {
   "cell_type": "markdown",
   "id": "618bbc47",
   "metadata": {},
   "source": [
    "### Algebra"
   ]
  },
  {
   "cell_type": "markdown",
   "id": "b5f6647f",
   "metadata": {},
   "source": [
    "<code> C:\\Users\\Frank> pip install sympy </code> <br>\n",
    "<code> C:\\Users\\Frank> pip install numpy </code>"
   ]
  },
  {
   "cell_type": "code",
   "execution_count": null,
   "id": "178ea838",
   "metadata": {},
   "outputs": [],
   "source": []
  }
 ],
 "metadata": {
  "kernelspec": {
   "display_name": "Python 3 (ipykernel)",
   "language": "python",
   "name": "python3"
  },
  "language_info": {
   "codemirror_mode": {
    "name": "ipython",
    "version": 3
   },
   "file_extension": ".py",
   "mimetype": "text/x-python",
   "name": "python",
   "nbconvert_exporter": "python",
   "pygments_lexer": "ipython3",
   "version": "3.11.2"
  }
 },
 "nbformat": 4,
 "nbformat_minor": 5
}
