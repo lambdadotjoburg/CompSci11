{
 "cells": [
  {
   "cell_type": "markdown",
   "id": "1abf5a24",
   "metadata": {},
   "source": [
    "# Python"
   ]
  },
  {
   "cell_type": "markdown",
   "id": "2037ec0a",
   "metadata": {},
   "source": [
    "## Logic\n",
    "\n",
    "* In the broadest sense, logic is the study of formal reasoning.  \n",
    "* All computer programming languages are defined by their logical syntax/grammar for computers to correctly compile code.  \n",
    "* Syntax comprises the rules of a (programming) language which governs valid/well-defined expressions.  \n",
    "* In a (programming) language, there are connectives/operators which are used to combine predicates/atomic constituents.  \n",
    "* Expressive Power - We want to be able to say \"enough\" without any loss of meaning/syntactic substance.\n",
    "* Adequacy - We want to keep our language to a minimal, having as few as possible symbols necessary, while maintaining expressive power."
   ]
  },
  {
   "cell_type": "markdown",
   "id": "0df7e396",
   "metadata": {},
   "source": [
    " | Connective     | Logical Symbol  | Python Syntax   |\n",
    "| -------------- | --------------- | --------------- |\n",
    "| Negation       | $ \\neg $        | not             |\n",
    "| Conjunction    | $ \\land $       | and             |\n",
    "| Disjunction    | $ \\lor $        | or              |\n",
    "| Implication    | $ \\rightarrow $ | if              |"
   ]
  },
  {
   "cell_type": "markdown",
   "id": "437ee8ad",
   "metadata": {},
   "source": [
    " ### Interpretation of Connectives"
   ]
  },
  {
   "cell_type": "markdown",
   "id": "69fe53f2",
   "metadata": {},
   "source": [
    "#### Negation\n",
    "\n",
    "| $ p $ | $ \\neg p $ |\n",
    "| ----- | ---------- |\n",
    "| $ T $ | $ F $      |\n",
    "| $ F $ | $ T $      |"
   ]
  },
  {
   "cell_type": "code",
   "execution_count": 1,
   "id": "90fcaa3d",
   "metadata": {},
   "outputs": [
    {
     "name": "stdout",
     "output_type": "stream",
     "text": [
      "False\n"
     ]
    }
   ],
   "source": [
    "x = True\n",
    "\n",
    "print(not x)"
   ]
  },
  {
   "cell_type": "code",
   "execution_count": 2,
   "id": "01fe65e9",
   "metadata": {},
   "outputs": [
    {
     "name": "stdout",
     "output_type": "stream",
     "text": [
      "True\n"
     ]
    }
   ],
   "source": [
    "x = False\n",
    "\n",
    "print(not x)"
   ]
  },
  {
   "cell_type": "markdown",
   "id": "27b8cb23",
   "metadata": {},
   "source": [
    " #### Conjuction\n",
    "\n",
    "| $ p $ | $ q $ | $ p \\land q $ |\n",
    "| ----- | ----- | ------------- |\n",
    "| $ T $ | $ T $ | $ T $         |\n",
    "| $ T $ | $ F $ | $ F $         |\n",
    "| $ F $ | $ T $ | $ F $         |\n",
    "| $ F $ | $ F $ | $ F $         |"
   ]
  },
  {
   "cell_type": "code",
   "execution_count": 3,
   "id": "ae4df339",
   "metadata": {},
   "outputs": [
    {
     "name": "stdout",
     "output_type": "stream",
     "text": [
      "True\n"
     ]
    }
   ],
   "source": [
    "x = True\n",
    "y = True\n",
    "\n",
    "print(x and y)"
   ]
  },
  {
   "cell_type": "code",
   "execution_count": 4,
   "id": "44455e65",
   "metadata": {},
   "outputs": [
    {
     "name": "stdout",
     "output_type": "stream",
     "text": [
      "False\n"
     ]
    }
   ],
   "source": [
    "x = True\n",
    "y = False\n",
    "\n",
    "print(x and y)"
   ]
  },
  {
   "cell_type": "code",
   "execution_count": 5,
   "id": "9361c638",
   "metadata": {},
   "outputs": [
    {
     "name": "stdout",
     "output_type": "stream",
     "text": [
      "False\n"
     ]
    }
   ],
   "source": [
    "x = False\n",
    "y = True\n",
    "\n",
    "print(x and y)"
   ]
  },
  {
   "cell_type": "code",
   "execution_count": 6,
   "id": "163cd851",
   "metadata": {},
   "outputs": [
    {
     "name": "stdout",
     "output_type": "stream",
     "text": [
      "False\n"
     ]
    }
   ],
   "source": [
    "x = False\n",
    "y = False\n",
    "\n",
    "print(x and y)"
   ]
  },
  {
   "cell_type": "markdown",
   "id": "f183b809",
   "metadata": {},
   "source": [
    " #### Disjunction\n",
    "\n",
    "| $ p $ | $ q $ | $ p \\lor q $ |\n",
    "| ----- | ----- | ------------ |\n",
    "| $ T $ | $ T $ | $ T $        |\n",
    "| $ T $ | $ F $ | $ T $        |\n",
    "| $ F $ | $ T $ | $ T $        |\n",
    "| $ F $ | $ F $ | $ F $        |"
   ]
  },
  {
   "cell_type": "code",
   "execution_count": 9,
   "id": "c2444216",
   "metadata": {},
   "outputs": [
    {
     "name": "stdout",
     "output_type": "stream",
     "text": [
      "True\n"
     ]
    }
   ],
   "source": [
    "x = True\n",
    "y = True\n",
    "\n",
    "print(x or y)"
   ]
  },
  {
   "cell_type": "code",
   "execution_count": 10,
   "id": "8b38d2a8",
   "metadata": {},
   "outputs": [
    {
     "name": "stdout",
     "output_type": "stream",
     "text": [
      "True\n"
     ]
    }
   ],
   "source": [
    "x = True\n",
    "y = False\n",
    "\n",
    "print(x or y)"
   ]
  },
  {
   "cell_type": "code",
   "execution_count": 11,
   "id": "6e44ec59",
   "metadata": {},
   "outputs": [
    {
     "name": "stdout",
     "output_type": "stream",
     "text": [
      "True\n"
     ]
    }
   ],
   "source": [
    "x = False\n",
    "y = True\n",
    "\n",
    "print(x or y)"
   ]
  },
  {
   "cell_type": "code",
   "execution_count": 12,
   "id": "9df0ec62",
   "metadata": {},
   "outputs": [
    {
     "name": "stdout",
     "output_type": "stream",
     "text": [
      "False\n"
     ]
    }
   ],
   "source": [
    "x = False\n",
    "y = False\n",
    "\n",
    "print(x or y)"
   ]
  },
  {
   "cell_type": "markdown",
   "id": "562c223b",
   "metadata": {},
   "source": [
    "#### Implication\n",
    "\n",
    "| $ p $ | $ q $ | $ p \\rightarrow q $ |\n",
    "| ----- | ----- | ------------------- |\n",
    "| $ T $ | $ T $ | $ T $               |\n",
    "| $ T $ | $ F $ | $ F $               |\n",
    "| $ F $ | $ T $ | $ T $               |\n",
    "| $ F $ | $ F $ | $ T $               |"
   ]
  },
  {
   "cell_type": "markdown",
   "id": "0eea0827",
   "metadata": {},
   "source": [
    "### Adequacy/Functional Completeness\n",
    "\n",
    "A set of connectives is said to be adequate if all other connectives can be expressed in terms of the connectives of that set.\n",
    "\n",
    "* Programmers can get away with only using negation and implication $\\{ \\neg, \\rightarrow \\}$ in their code, but this may feel restrictive and can make code difficult to read."
   ]
  },
  {
   "cell_type": "code",
   "execution_count": 32,
   "id": "2fbb1e88",
   "metadata": {},
   "outputs": [],
   "source": [
    "def implication(x,y):\n",
    "    if not ((not x) or y):\n",
    "        return False\n",
    "    else:\n",
    "        return True"
   ]
  },
  {
   "cell_type": "markdown",
   "id": "3907a998",
   "metadata": {},
   "source": [
    "We define implication in terms of negation (not) and disjunction (or)\n",
    "\n",
    "This corresponds to the following equivalent expressions, i.e. they define the same truth table:\n",
    "\n",
    "$$ x \\rightarrow y \\equiv \\neg ((\\neg x) \\lor y) $$"
   ]
  },
  {
   "cell_type": "code",
   "execution_count": 33,
   "id": "ffef9544",
   "metadata": {},
   "outputs": [
    {
     "data": {
      "text/plain": [
       "True"
      ]
     },
     "execution_count": 33,
     "metadata": {},
     "output_type": "execute_result"
    }
   ],
   "source": [
    "implication(True,True)"
   ]
  },
  {
   "cell_type": "code",
   "execution_count": 34,
   "id": "83150976",
   "metadata": {},
   "outputs": [
    {
     "data": {
      "text/plain": [
       "False"
      ]
     },
     "execution_count": 34,
     "metadata": {},
     "output_type": "execute_result"
    }
   ],
   "source": [
    "implication(True,False)"
   ]
  },
  {
   "cell_type": "code",
   "execution_count": 35,
   "id": "8b327bb6",
   "metadata": {},
   "outputs": [
    {
     "data": {
      "text/plain": [
       "True"
      ]
     },
     "execution_count": 35,
     "metadata": {},
     "output_type": "execute_result"
    }
   ],
   "source": [
    "implication(False,True)"
   ]
  },
  {
   "cell_type": "code",
   "execution_count": 36,
   "id": "810b24e0",
   "metadata": {},
   "outputs": [
    {
     "data": {
      "text/plain": [
       "True"
      ]
     },
     "execution_count": 36,
     "metadata": {},
     "output_type": "execute_result"
    }
   ],
   "source": [
    "implication(False,False)"
   ]
  },
  {
   "cell_type": "markdown",
   "id": "d90f914f",
   "metadata": {},
   "source": [
    "Exercise:\n",
    "\n",
    "* Define implication in terms of negation (not) and conjunction (and).\n",
    "* Present its truth table to check that you do indeed have logical equivalence.\n",
    "* Write a Python function as above to verify your result."
   ]
  },
  {
   "cell_type": "code",
   "execution_count": null,
   "id": "ca9607c4",
   "metadata": {},
   "outputs": [],
   "source": []
  }
 ],
 "metadata": {
  "kernelspec": {
   "display_name": "Python 3 (ipykernel)",
   "language": "python",
   "name": "python3"
  },
  "language_info": {
   "codemirror_mode": {
    "name": "ipython",
    "version": 3
   },
   "file_extension": ".py",
   "mimetype": "text/x-python",
   "name": "python",
   "nbconvert_exporter": "python",
   "pygments_lexer": "ipython3",
   "version": "3.11.2"
  }
 },
 "nbformat": 4,
 "nbformat_minor": 5
}
