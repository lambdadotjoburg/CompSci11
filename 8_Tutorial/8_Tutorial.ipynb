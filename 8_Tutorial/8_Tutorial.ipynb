{
 "cells": [
  {
   "cell_type": "markdown",
   "id": "4fc48d44",
   "metadata": {},
   "source": [
    "# Python"
   ]
  },
  {
   "cell_type": "markdown",
   "id": "01a826cc",
   "metadata": {},
   "source": [
    "## Manipulating Excel Documents"
   ]
  },
  {
   "cell_type": "markdown",
   "id": "5a88e7f9",
   "metadata": {},
   "source": [
    "<code>pip install openpyxl</code>"
   ]
  },
  {
   "cell_type": "code",
   "execution_count": 9,
   "id": "c06c41e5",
   "metadata": {},
   "outputs": [
    {
     "name": "stdout",
     "output_type": "stream",
     "text": [
      "Once deleted, variables cannot be recovered. Proceed (y/[n])? \n",
      "Nothing done.\n"
     ]
    }
   ],
   "source": [
    "%reset"
   ]
  },
  {
   "cell_type": "markdown",
   "id": "7d15b005",
   "metadata": {},
   "source": [
    "#### Common Excel file extensions:\n",
    "\n",
    "    .xlsx - default XML\n",
    "    .csv - comma separated values (Does not support multiple worksheets)\n",
    "    .xlc - excel chart"
   ]
  },
  {
   "cell_type": "markdown",
   "id": "089962aa",
   "metadata": {},
   "source": [
    "### openpyxl excel file manipulation python library"
   ]
  },
  {
   "cell_type": "code",
   "execution_count": 10,
   "id": "a229d92d",
   "metadata": {},
   "outputs": [],
   "source": [
    "import openpyxl"
   ]
  },
  {
   "cell_type": "markdown",
   "id": "b4f7814f",
   "metadata": {},
   "source": [
    "#### Writing to Cells using openpyxl"
   ]
  },
  {
   "cell_type": "code",
   "execution_count": 11,
   "id": "7c659484",
   "metadata": {},
   "outputs": [],
   "source": [
    "# Create/overwrite a(n) (new) excel document using the Workbook class & the .save method\n",
    "from openpyxl import Workbook\n",
    "\n",
    "workbook = Workbook()\n",
    "sheet = workbook.active\n",
    "\n",
    "# Insert data into active workbook spreadsheet\n",
    "sheet[\"A1\"] = \"data1\"\n",
    "sheet[\"B1\"] = \"value1\"\n",
    "\n",
    "sheet[\"A2\"] = \"data2\"\n",
    "sheet[\"B2\"] = \"value2\"\n",
    "\n",
    "sheet[\"A3\"] = \"data3\"\n",
    "sheet[\"B3\"] = \"value3\"\n",
    "\n",
    "# specify the file path, name and format for the Excel document to be saved\n",
    "file_path = r\"this_document_is_automatically_generated_using_openpyxl_for_testing_purposes_and_may_be_deleted.xlsx\"\n",
    "\n",
    "# It is important to save the workbook, or else the data will not be captured and may be discarded\n",
    "workbook.save(filename=file_path)"
   ]
  },
  {
   "cell_type": "code",
   "execution_count": 12,
   "id": "da6fcc27",
   "metadata": {},
   "outputs": [],
   "source": [
    "xl_workbook = openpyxl.load_workbook(file_path)"
   ]
  },
  {
   "cell_type": "code",
   "execution_count": 13,
   "id": "770d11d4",
   "metadata": {},
   "outputs": [
    {
     "data": {
      "text/plain": [
       "['Sheet']"
      ]
     },
     "execution_count": 13,
     "metadata": {},
     "output_type": "execute_result"
    }
   ],
   "source": [
    "xl_workbook.sheetnames"
   ]
  },
  {
   "cell_type": "code",
   "execution_count": 14,
   "id": "8b3e8d7b",
   "metadata": {},
   "outputs": [],
   "source": [
    "xl_worksheet0 = xl_workbook[xl_workbook.sheetnames[0]]"
   ]
  },
  {
   "cell_type": "code",
   "execution_count": 15,
   "id": "c8ae2a61",
   "metadata": {},
   "outputs": [],
   "source": [
    "# Create/overwrite a(n) (new) excel document using the Workbook class & the .save method\n",
    "from openpyxl import Workbook\n",
    "\n",
    "workbook = Workbook()\n",
    "sheet = workbook.active\n",
    "\n",
    "# Insert data into active workbook spreadsheet\n",
    "sheet[\"A1\"] = \"data1\"\n",
    "sheet[\"B1\"] = \"value1\"\n",
    " \n",
    "sheet[\"A2\"] = \"data2\"\n",
    "sheet[\"B2\"] = \"value2\"\n",
    "\n",
    "sheet[\"A3\"] = \"data3\"\n",
    "sheet[\"B3\"] = \"value3\"\n",
    "\n",
    "sheet[\"A4\"] = \"data4\"\n",
    "sheet[\"B4\"] = \"value4\"\n",
    "\n",
    "# It is important to save the workbook, or else the data will not be captured and may be discarded\n",
    "workbook.save(filename=file_path)"
   ]
  },
  {
   "cell_type": "code",
   "execution_count": 16,
   "id": "af68029c",
   "metadata": {},
   "outputs": [],
   "source": [
    "# Create/overwrite a(n) (new) excel document using the Workbook class & the .save method\n",
    "from openpyxl import Workbook\n",
    "\n",
    "workbook = Workbook()\n",
    "sheet = workbook.active\n",
    "\n",
    "# Insert data into active workbook spreadsheet\n",
    "sheet[\"A1\"] = \"data1\"\n",
    "sheet[\"B1\"] = \"value1\"\n",
    " \n",
    "sheet[\"A2\"] = \"data2\"\n",
    "sheet[\"B2\"] = \"value2\"\n",
    "\n",
    "sheet[\"A3\"] = \"data3\"\n",
    "sheet[\"B3\"] = \"value3\"\n",
    "\n",
    "sheet[\"A4\"] = None\n",
    "sheet[\"B4\"] = None\n",
    "\n",
    "# It is important to save the workbook, or else the data will not be captured and may be discarded\n",
    "workbook.save(filename=file_path)"
   ]
  },
  {
   "cell_type": "code",
   "execution_count": 17,
   "id": "58d6cf78",
   "metadata": {},
   "outputs": [
    {
     "data": {
      "text/plain": [
       "3"
      ]
     },
     "execution_count": 17,
     "metadata": {},
     "output_type": "execute_result"
    }
   ],
   "source": [
    "xl_workbook = openpyxl.load_workbook(file_path)\n",
    "xl_worksheet0 = xl_workbook[xl_workbook.sheetnames[0]]\n",
    "\n",
    "num_rows = xl_worksheet0.max_row\n",
    "num_rows"
   ]
  },
  {
   "cell_type": "code",
   "execution_count": 18,
   "id": "6be57028",
   "metadata": {},
   "outputs": [],
   "source": [
    "xl_workbook = openpyxl.load_workbook(file_path)\n",
    "\n",
    "sheet = xl_workbook.active\n",
    "\n",
    "sheet.delete_rows(idx=3)\n",
    "\n",
    "xl_workbook.save(file_path)"
   ]
  },
  {
   "cell_type": "code",
   "execution_count": 19,
   "id": "fb2da10d",
   "metadata": {},
   "outputs": [],
   "source": [
    "# Create/overwrite a(n) (new) excel document using the Workbook class & the .save method\n",
    "from openpyxl import Workbook\n",
    "\n",
    "workbook = Workbook()\n",
    "sheet = workbook.active\n",
    "\n",
    "# Insert data into active workbook spreadsheet\n",
    "sheet[\"A1\"] = \"data1\"\n",
    "sheet[\"B1\"] = \"value1\"\n",
    "\n",
    "sheet[\"A2\"] = \"data2\"\n",
    "sheet[\"B2\"] = \"value2\"\n",
    "\n",
    "sheet[\"A3\"] = \"data3\"\n",
    "sheet[\"B3\"] = \"value3\"\n",
    "\n",
    "# It is important to save the workbook, or else the data will not be captured and may be discarded\n",
    "workbook.save(filename=file_path)"
   ]
  },
  {
   "cell_type": "code",
   "execution_count": 20,
   "id": "dddcea38",
   "metadata": {},
   "outputs": [],
   "source": [
    "xl_workbook = openpyxl.load_workbook(file_path)\n",
    "\n",
    "sheet = xl_workbook.active\n",
    "\n",
    "sheet.delete_rows(1)\n",
    "# sheet.delete_rows(idx=1)\n",
    "\n",
    "xl_workbook.save(file_path)"
   ]
  },
  {
   "cell_type": "code",
   "execution_count": 21,
   "id": "b3324058",
   "metadata": {},
   "outputs": [
    {
     "data": {
      "text/plain": [
       "2"
      ]
     },
     "execution_count": 21,
     "metadata": {},
     "output_type": "execute_result"
    }
   ],
   "source": [
    "xl_workbook = openpyxl.load_workbook(file_path)\n",
    "xl_worksheet0 = xl_workbook[xl_workbook.sheetnames[0]]\n",
    "\n",
    "num_rows = xl_worksheet0.max_row\n",
    "num_rows"
   ]
  },
  {
   "cell_type": "code",
   "execution_count": 22,
   "id": "324dace0",
   "metadata": {},
   "outputs": [],
   "source": [
    "# Create/overwrite a(n) (new) excel document using the Workbook class & the .save method\n",
    "from openpyxl import Workbook\n",
    "\n",
    "workbook = Workbook()\n",
    "sheet = workbook.active\n",
    "\n",
    "# Insert data into active workbook spreadsheet\n",
    "sheet[\"A1\"] = \"data1\"\n",
    "sheet[\"B1\"] = \"value1\"\n",
    "\n",
    "sheet[\"A2\"] = \"data2\"\n",
    "sheet[\"B2\"] = \"value2\"\n",
    "\n",
    "sheet[\"A3\"] = \"data3\"\n",
    "sheet[\"B3\"] = \"value3\"\n",
    "\n",
    "# It is important to save the workbook, or else the data will not be captured and may be discarded\n",
    "workbook.save(filename=file_path)"
   ]
  },
  {
   "cell_type": "code",
   "execution_count": 23,
   "id": "6c822b83",
   "metadata": {},
   "outputs": [
    {
     "data": {
      "text/plain": [
       "3"
      ]
     },
     "execution_count": 23,
     "metadata": {},
     "output_type": "execute_result"
    }
   ],
   "source": [
    "xl_workbook = openpyxl.load_workbook(file_path)\n",
    "xl_worksheet0 = xl_workbook[xl_workbook.sheetnames[0]]\n",
    "\n",
    "num_rows = xl_worksheet0.max_row\n",
    "num_rows"
   ]
  },
  {
   "cell_type": "code",
   "execution_count": 24,
   "id": "66479b6e",
   "metadata": {},
   "outputs": [],
   "source": [
    "xl_workbook = openpyxl.load_workbook(file_path)\n",
    "\n",
    "sheet = xl_workbook.active\n",
    "\n",
    "sheet.delete_rows(1, 2)\n",
    "\n",
    "xl_workbook.save(file_path)"
   ]
  },
  {
   "cell_type": "code",
   "execution_count": 25,
   "id": "c1fee8fc",
   "metadata": {},
   "outputs": [
    {
     "data": {
      "text/plain": [
       "1"
      ]
     },
     "execution_count": 25,
     "metadata": {},
     "output_type": "execute_result"
    }
   ],
   "source": [
    "xl_workbook = openpyxl.load_workbook(file_path)\n",
    "xl_worksheet0 = xl_workbook[xl_workbook.sheetnames[0]]\n",
    "\n",
    "num_rows = xl_worksheet0.max_row\n",
    "num_rows"
   ]
  },
  {
   "cell_type": "code",
   "execution_count": 26,
   "id": "6827a8b7",
   "metadata": {},
   "outputs": [],
   "source": [
    "# Create/overwrite a(n) (new) excel document using the Workbook class & the .save method\n",
    "from openpyxl import Workbook\n",
    "\n",
    "workbook = Workbook()\n",
    "sheet = workbook.active\n",
    "\n",
    "# Insert data into active workbook spreadsheet\n",
    "sheet[\"A1\"] = \"data1\"\n",
    "sheet[\"B1\"] = \"value1\"\n",
    "sheet[\"C1\"] = \"key1\"\n",
    "\n",
    "sheet[\"A2\"] = \"data2\"\n",
    "sheet[\"B2\"] = \"value2\"\n",
    "sheet[\"C2\"] = \"key2\"\n",
    "\n",
    "sheet[\"A3\"] = \"data3\"\n",
    "sheet[\"B3\"] = \"value3\"\n",
    "sheet[\"C3\"] = \"key3\"\n",
    "\n",
    "# It is important to save the workbook, or else the data will not be captured and may be discarded\n",
    "workbook.save(filename=file_path)"
   ]
  },
  {
   "cell_type": "code",
   "execution_count": 27,
   "id": "b1946b55",
   "metadata": {},
   "outputs": [
    {
     "data": {
      "text/plain": [
       "3"
      ]
     },
     "execution_count": 27,
     "metadata": {},
     "output_type": "execute_result"
    }
   ],
   "source": [
    "xl_workbook = openpyxl.load_workbook(file_path)\n",
    "xl_worksheet0 = xl_workbook[xl_workbook.sheetnames[0]]\n",
    "\n",
    "num_rows = xl_worksheet0.max_row\n",
    "num_rows"
   ]
  },
  {
   "cell_type": "code",
   "execution_count": 28,
   "id": "a6cbce60",
   "metadata": {},
   "outputs": [],
   "source": [
    "xl_workbook = openpyxl.load_workbook(file_path)\n",
    "\n",
    "sheet = xl_workbook.active\n",
    "\n",
    "sheet.delete_cols(idx=1)\n",
    "# sheet.delete_cols(1)\n",
    "\n",
    "xl_workbook.save(file_path)"
   ]
  },
  {
   "cell_type": "code",
   "execution_count": 29,
   "id": "7a4d24bb",
   "metadata": {},
   "outputs": [
    {
     "data": {
      "text/plain": [
       "2"
      ]
     },
     "execution_count": 29,
     "metadata": {},
     "output_type": "execute_result"
    }
   ],
   "source": [
    "xl_workbook = openpyxl.load_workbook(file_path)\n",
    "xl_worksheet0 = xl_workbook[xl_workbook.sheetnames[0]]\n",
    "\n",
    "num_col = xl_worksheet0.max_column\n",
    "num_col"
   ]
  },
  {
   "cell_type": "code",
   "execution_count": 30,
   "id": "281beb12",
   "metadata": {},
   "outputs": [],
   "source": [
    "# Create/overwrite a(n) (new) excel document using the Workbook class & the .save method\n",
    "from openpyxl import Workbook\n",
    "\n",
    "workbook = Workbook()\n",
    "sheet = workbook.active\n",
    "\n",
    "# Insert data into active workbook spreadsheet\n",
    "sheet[\"A1\"] = \"data1\"\n",
    "sheet[\"B1\"] = \"value1\"\n",
    "sheet[\"C1\"] = \"key1\"\n",
    "\n",
    "sheet[\"A2\"] = \"data2\"\n",
    "sheet[\"B2\"] = \"value2\"\n",
    "sheet[\"C2\"] = \"key2\"\n",
    "\n",
    "sheet[\"A3\"] = \"data3\"\n",
    "sheet[\"B3\"] = \"value3\"\n",
    "sheet[\"C3\"] = \"key3\"\n",
    "\n",
    "# It is important to save the workbook, or else the data will not be captured and may be discarded\n",
    "workbook.save(filename=file_path)"
   ]
  },
  {
   "cell_type": "code",
   "execution_count": 31,
   "id": "f77ef670",
   "metadata": {},
   "outputs": [
    {
     "data": {
      "text/plain": [
       "3"
      ]
     },
     "execution_count": 31,
     "metadata": {},
     "output_type": "execute_result"
    }
   ],
   "source": [
    "xl_workbook = openpyxl.load_workbook(file_path)\n",
    "xl_worksheet0 = xl_workbook[xl_workbook.sheetnames[0]]\n",
    "\n",
    "num_col = xl_worksheet0.max_column\n",
    "num_col"
   ]
  },
  {
   "cell_type": "code",
   "execution_count": 32,
   "id": "98aade13",
   "metadata": {},
   "outputs": [],
   "source": [
    "xl_workbook = openpyxl.load_workbook(file_path)\n",
    "\n",
    "sheet = xl_workbook.active\n",
    "\n",
    "sheet.delete_cols(idx=2)\n",
    "\n",
    "xl_workbook.save(file_path)"
   ]
  },
  {
   "cell_type": "code",
   "execution_count": 33,
   "id": "d8f51035",
   "metadata": {},
   "outputs": [
    {
     "data": {
      "text/plain": [
       "2"
      ]
     },
     "execution_count": 33,
     "metadata": {},
     "output_type": "execute_result"
    }
   ],
   "source": [
    "xl_workbook = openpyxl.load_workbook(file_path)\n",
    "xl_worksheet0 = xl_workbook[xl_workbook.sheetnames[0]]\n",
    "\n",
    "num_col = xl_worksheet0.max_column\n",
    "num_col"
   ]
  },
  {
   "cell_type": "code",
   "execution_count": 34,
   "id": "ec9a0470",
   "metadata": {},
   "outputs": [],
   "source": [
    "# Create/overwrite a(n) (new) excel document using the Workbook class & the .save method\n",
    "from openpyxl import Workbook\n",
    "\n",
    "workbook = Workbook()\n",
    "sheet = workbook.active\n",
    "\n",
    "# Insert data into active workbook spreadsheet\n",
    "sheet[\"A1\"] = \"data1\"\n",
    "sheet[\"B1\"] = \"value1\"\n",
    "sheet[\"C1\"] = \"key1\"\n",
    "\n",
    "sheet[\"A2\"] = \"data2\"\n",
    "sheet[\"B2\"] = \"value2\"\n",
    "sheet[\"C2\"] = \"key2\"\n",
    "\n",
    "sheet[\"A3\"] = \"data3\"\n",
    "sheet[\"B3\"] = \"value3\"\n",
    "sheet[\"C3\"] = \"key3\"\n",
    "\n",
    "# It is important to save the workbook, or else the data will not be captured and may be discarded\n",
    "workbook.save(filename=file_path)"
   ]
  },
  {
   "cell_type": "code",
   "execution_count": 35,
   "id": "485198e8",
   "metadata": {},
   "outputs": [
    {
     "data": {
      "text/plain": [
       "3"
      ]
     },
     "execution_count": 35,
     "metadata": {},
     "output_type": "execute_result"
    }
   ],
   "source": [
    "xl_workbook = openpyxl.load_workbook(file_path)\n",
    "xl_worksheet0 = xl_workbook[xl_workbook.sheetnames[0]]\n",
    "\n",
    "num_col = xl_worksheet0.max_column\n",
    "num_col"
   ]
  },
  {
   "cell_type": "code",
   "execution_count": 36,
   "id": "f3f699d1",
   "metadata": {},
   "outputs": [],
   "source": [
    "xl_workbook = openpyxl.load_workbook(file_path)\n",
    "\n",
    "sheet = xl_workbook.active\n",
    "\n",
    "sheet.delete_cols(1, 2)\n",
    "\n",
    "xl_workbook.save(file_path)"
   ]
  },
  {
   "cell_type": "code",
   "execution_count": 37,
   "id": "f9e95654",
   "metadata": {},
   "outputs": [
    {
     "data": {
      "text/plain": [
       "1"
      ]
     },
     "execution_count": 37,
     "metadata": {},
     "output_type": "execute_result"
    }
   ],
   "source": [
    "xl_workbook = openpyxl.load_workbook(file_path)\n",
    "xl_worksheet0 = xl_workbook[xl_workbook.sheetnames[0]]\n",
    "\n",
    "num_col = xl_worksheet0.max_column\n",
    "num_col"
   ]
  },
  {
   "cell_type": "code",
   "execution_count": 38,
   "id": "578a969d",
   "metadata": {},
   "outputs": [],
   "source": [
    "# Create/overwrite a(n) (new) excel document using the Workbook class & the .save method\n",
    "from openpyxl import Workbook\n",
    "\n",
    "workbook = Workbook()\n",
    "sheet = workbook.active\n",
    "\n",
    "# Insert data into active workbook spreadsheet\n",
    "sheet[\"A1\"] = \"data1\"\n",
    "sheet[\"B1\"] = \"value1\"\n",
    "sheet[\"C1\"] = \"key1\"\n",
    "\n",
    "sheet[\"A2\"] = \"data2\"\n",
    "sheet[\"B2\"] = \"value2\"\n",
    "sheet[\"C2\"] = \"key2\"\n",
    "\n",
    "sheet[\"A3\"] = \"data3\"\n",
    "sheet[\"B3\"] = \"value3\"\n",
    "sheet[\"C3\"] = \"key3\"\n",
    "\n",
    "# It is important to save the workbook, or else the data will not be captured and may be discarded\n",
    "workbook.save(filename=file_path)"
   ]
  },
  {
   "cell_type": "code",
   "execution_count": 39,
   "id": "198b7c61",
   "metadata": {},
   "outputs": [
    {
     "data": {
      "text/plain": [
       "3"
      ]
     },
     "execution_count": 39,
     "metadata": {},
     "output_type": "execute_result"
    }
   ],
   "source": [
    "xl_workbook = openpyxl.load_workbook(file_path)\n",
    "xl_worksheet0 = xl_workbook[xl_workbook.sheetnames[0]]\n",
    "\n",
    "num_rows = xl_worksheet0.max_row\n",
    "num_rows"
   ]
  },
  {
   "cell_type": "code",
   "execution_count": 40,
   "id": "f6ebe57f",
   "metadata": {},
   "outputs": [],
   "source": [
    "# Create/overwrite a(n) (new) excel document using the Workbook class & the .save method\n",
    "from openpyxl import Workbook\n",
    "\n",
    "workbook = Workbook()\n",
    "\n",
    "# Insert new rows at certain index\n",
    "\n",
    "xl_workbook = openpyxl.load_workbook(file_path)\n",
    "sheet = xl_workbook.active\n",
    "\n",
    "#insert 2 rows starting on the first row\n",
    "sheet.insert_rows(idx=2)\n",
    "\n",
    "# save the file to the path\n",
    "xl_workbook.save(file_path)"
   ]
  },
  {
   "cell_type": "code",
   "execution_count": 41,
   "id": "ebb8c69b",
   "metadata": {},
   "outputs": [
    {
     "data": {
      "text/plain": [
       "4"
      ]
     },
     "execution_count": 41,
     "metadata": {},
     "output_type": "execute_result"
    }
   ],
   "source": [
    "xl_workbook = openpyxl.load_workbook(file_path)\n",
    "xl_worksheet0 = xl_workbook[xl_workbook.sheetnames[0]]\n",
    "\n",
    "num_rows = xl_worksheet0.max_row\n",
    "num_rows"
   ]
  },
  {
   "cell_type": "code",
   "execution_count": 42,
   "id": "e5e0f111",
   "metadata": {},
   "outputs": [],
   "source": [
    "# Create/overwrite a(n) (new) excel document using the Workbook class & the .save method\n",
    "from openpyxl import Workbook\n",
    "\n",
    "workbook = Workbook()\n",
    "\n",
    "# Insert new rows at certain index\n",
    "\n",
    "xl_workbook = openpyxl.load_workbook(file_path)\n",
    "sheet = xl_workbook.active\n",
    "\n",
    "#insert multiple rows at once\n",
    "#insert 3 rows starting on the six row\n",
    "sheet.insert_rows(2,3)\n",
    "\n",
    "# save the file to the path\n",
    "xl_workbook.save(file_path)"
   ]
  },
  {
   "cell_type": "code",
   "execution_count": 43,
   "id": "8eb867a8",
   "metadata": {},
   "outputs": [
    {
     "data": {
      "text/plain": [
       "7"
      ]
     },
     "execution_count": 43,
     "metadata": {},
     "output_type": "execute_result"
    }
   ],
   "source": [
    "xl_workbook = openpyxl.load_workbook(file_path)\n",
    "xl_worksheet0 = xl_workbook[xl_workbook.sheetnames[0]]\n",
    "\n",
    "num_rows = xl_worksheet0.max_row\n",
    "num_rows"
   ]
  },
  {
   "cell_type": "code",
   "execution_count": 44,
   "id": "0887b75e",
   "metadata": {},
   "outputs": [],
   "source": [
    "# delete empty rows\n",
    "xl_workbook = openpyxl.load_workbook(file_path)\n",
    "\n",
    "sheet = xl_workbook.active\n",
    "\n",
    "indx = []\n",
    "for i in range(len(tuple(sheet.rows))):\n",
    "    flag = False\n",
    "    for cell in tuple(sheet.rows)[i]:\n",
    "        if cell.value != None:\n",
    "            flag = True\n",
    "            break\n",
    "    if flag == False:\n",
    "        indx.append(i)\n",
    "\n",
    "indx.sort()\n",
    "for i in range(len(indx)):\n",
    "    sheet.delete_rows(idx = indx[i]+1-i)\n",
    "\n",
    "xl_workbook.save(file_path)"
   ]
  },
  {
   "cell_type": "code",
   "execution_count": 45,
   "id": "c5cd865a",
   "metadata": {},
   "outputs": [
    {
     "data": {
      "text/plain": [
       "3"
      ]
     },
     "execution_count": 45,
     "metadata": {},
     "output_type": "execute_result"
    }
   ],
   "source": [
    "xl_workbook = openpyxl.load_workbook(file_path)\n",
    "xl_worksheet0 = xl_workbook[xl_workbook.sheetnames[0]]\n",
    "\n",
    "num_rows = xl_worksheet0.max_row\n",
    "num_rows"
   ]
  },
  {
   "cell_type": "code",
   "execution_count": 46,
   "id": "f04b97eb",
   "metadata": {},
   "outputs": [],
   "source": [
    "# Create/overwrite a(n) (new) excel document using the Workbook class & the .save method\n",
    "from openpyxl import Workbook\n",
    "\n",
    "workbook = Workbook()\n",
    "\n",
    "# Insert new rows at certain index\n",
    "\n",
    "xl_workbook = openpyxl.load_workbook(file_path)\n",
    "sheet = xl_workbook.active\n",
    "\n",
    "#insert multiple columns at once\n",
    "#insert 3 columns starting on the second row\n",
    "sheet.insert_cols(2,3)\n",
    "\n",
    "# save the file to the path\n",
    "xl_workbook.save(file_path)"
   ]
  },
  {
   "cell_type": "code",
   "execution_count": 47,
   "id": "1003f6df",
   "metadata": {},
   "outputs": [
    {
     "data": {
      "text/plain": [
       "6"
      ]
     },
     "execution_count": 47,
     "metadata": {},
     "output_type": "execute_result"
    }
   ],
   "source": [
    "xl_workbook = openpyxl.load_workbook(file_path)\n",
    "xl_worksheet0 = xl_workbook[xl_workbook.sheetnames[0]]\n",
    "\n",
    "num_col = xl_worksheet0.max_column\n",
    "num_col"
   ]
  },
  {
   "cell_type": "code",
   "execution_count": 48,
   "id": "d9f226a9",
   "metadata": {},
   "outputs": [],
   "source": [
    "# delete empty columns\n",
    "xl_workbook = openpyxl.load_workbook(file_path)\n",
    "\n",
    "sheet = xl_workbook.active\n",
    "\n",
    "indx = []\n",
    "for i in range(len(tuple(sheet.columns))):\n",
    "    flag = False\n",
    "    for cell in tuple(sheet.columns)[i]:\n",
    "        if cell.value != None:\n",
    "            flag = True\n",
    "            break\n",
    "    if flag == False:\n",
    "        indx.append(i)\n",
    "\n",
    "indx.sort()\n",
    "for i in range(len(indx)):\n",
    "    sheet.delete_cols(idx = indx[i]+1-i)\n",
    "\n",
    "xl_workbook.save(file_path)"
   ]
  },
  {
   "cell_type": "code",
   "execution_count": 49,
   "id": "f0d3cda2",
   "metadata": {},
   "outputs": [
    {
     "data": {
      "text/plain": [
       "3"
      ]
     },
     "execution_count": 49,
     "metadata": {},
     "output_type": "execute_result"
    }
   ],
   "source": [
    "xl_workbook = openpyxl.load_workbook(file_path)\n",
    "xl_worksheet0 = xl_workbook[xl_workbook.sheetnames[0]]\n",
    "\n",
    "num_col = xl_worksheet0.max_column\n",
    "num_col"
   ]
  },
  {
   "cell_type": "markdown",
   "id": "03e05908",
   "metadata": {},
   "source": [
    "#### Manipulating Worksheets using openpyxl"
   ]
  },
  {
   "cell_type": "code",
   "execution_count": 50,
   "id": "a88c2c29",
   "metadata": {},
   "outputs": [],
   "source": [
    "# Open .xlsx file from python jupyter notebook\n",
    "\n",
    "import os\n",
    "\n",
    "os.startfile(file_path)"
   ]
  },
  {
   "cell_type": "code",
   "execution_count": 51,
   "id": "0e2b0ac0",
   "metadata": {},
   "outputs": [],
   "source": [
    "# Read data from an excel document using the .load_workbook method\n",
    "\n",
    "xl_workbook = openpyxl.load_workbook(file_path)"
   ]
  },
  {
   "cell_type": "code",
   "execution_count": 52,
   "id": "2e461508",
   "metadata": {},
   "outputs": [
    {
     "name": "stdout",
     "output_type": "stream",
     "text": [
      "['Sheet']\n"
     ]
    }
   ],
   "source": [
    "# Get the spreadsheet names from a workbook using the .sheetnames method\n",
    "\n",
    "print(xl_workbook.sheetnames)"
   ]
  },
  {
   "cell_type": "code",
   "execution_count": 53,
   "id": "9ea11f66",
   "metadata": {},
   "outputs": [
    {
     "name": "stdout",
     "output_type": "stream",
     "text": [
      "<class 'list'>\n"
     ]
    }
   ],
   "source": [
    "# Get the type of xl_workbook.sheetnames\n",
    "\n",
    "print(type(xl_workbook.sheetnames))"
   ]
  },
  {
   "cell_type": "code",
   "execution_count": 54,
   "id": "4fca5d05",
   "metadata": {},
   "outputs": [
    {
     "name": "stdout",
     "output_type": "stream",
     "text": [
      "Sheet\n"
     ]
    }
   ],
   "source": [
    "# The sheet xl_workbook.sheetnames[0] exists, but\n",
    "\n",
    "print(xl_workbook.sheetnames[0])\n",
    "\n",
    "# The sheet xl_workbook.sheetnames[1] does not exist\n",
    "\n",
    "# print(xl_workbook.sheetnames[1])\n",
    "\n",
    "# So it is better to use a loop to get all the sheet names"
   ]
  },
  {
   "cell_type": "code",
   "execution_count": 740,
   "id": "041a99b6",
   "metadata": {},
   "outputs": [
    {
     "name": "stdout",
     "output_type": "stream",
     "text": [
      "Sheet\n"
     ]
    }
   ],
   "source": [
    "# Use a for loop to iterate over the sheetnames and return all worksheets from the excel workbook\n",
    "\n",
    "length = len(xl_workbook.sheetnames)\n",
    "\n",
    "for i in range(length):\n",
    "    print(xl_workbook.sheetnames[i])"
   ]
  },
  {
   "cell_type": "code",
   "execution_count": 741,
   "id": "38dd5904",
   "metadata": {},
   "outputs": [
    {
     "name": "stdout",
     "output_type": "stream",
     "text": [
      "<Worksheet \"Sheet\">\n"
     ]
    }
   ],
   "source": [
    "# Get worksheets manually as Worksheet Type of Object\n",
    "\n",
    "xl_worksheet0 = xl_workbook[xl_workbook.sheetnames[0]]\n",
    "# xl_worksheet1 = xl_workbook[xl_workbook.sheetnames[1]]\n",
    "\n",
    "print(xl_worksheet0)\n",
    "# print(xl_worksheet1)"
   ]
  },
  {
   "cell_type": "code",
   "execution_count": 742,
   "id": "cad5712a",
   "metadata": {},
   "outputs": [
    {
     "name": "stdout",
     "output_type": "stream",
     "text": [
      "<Worksheet \"Sheet\">\n"
     ]
    }
   ],
   "source": [
    "# Use a for loop to get all worksheets as Worksheet Type of Object\n",
    "\n",
    "length = len(xl_workbook.sheetnames)\n",
    "\n",
    "for i in range(length):\n",
    "    print(xl_workbook[xl_workbook.sheetnames[i]])"
   ]
  },
  {
   "cell_type": "markdown",
   "id": "2dca54a1",
   "metadata": {},
   "source": [
    "#### Reading Cell values using openpyxl"
   ]
  },
  {
   "cell_type": "code",
   "execution_count": 974,
   "id": "6df5d8ba",
   "metadata": {},
   "outputs": [
    {
     "data": {
      "text/plain": [
       "<Worksheet \"Sheet\">"
      ]
     },
     "execution_count": 974,
     "metadata": {},
     "output_type": "execute_result"
    }
   ],
   "source": [
    "xl_worksheet0 = xl_workbook[xl_workbook.sheetnames[0]]\n",
    "\n",
    "xl_worksheet0"
   ]
  },
  {
   "cell_type": "code",
   "execution_count": 976,
   "id": "616f0ddd",
   "metadata": {},
   "outputs": [
    {
     "name": "stdout",
     "output_type": "stream",
     "text": [
      "value2\n"
     ]
    }
   ],
   "source": [
    "# Read values of individual cells\n",
    "\n",
    "\n",
    "\n",
    "cell_value = xl_worksheet0['B2'].value\n",
    "\n",
    "print(cell_value)"
   ]
  },
  {
   "cell_type": "code",
   "execution_count": 979,
   "id": "1ff48c6b",
   "metadata": {},
   "outputs": [
    {
     "name": "stdout",
     "output_type": "stream",
     "text": [
      "Test\n"
     ]
    }
   ],
   "source": [
    "# Read values of individual cells\n",
    "\n",
    "xl_worksheet0['B2'].value = \"Test\"\n",
    "\n",
    "xl_workbook.save(file_path)\n",
    "\n",
    "cell_value = xl_worksheet0['B2'].value\n",
    "\n",
    "print(cell_value)"
   ]
  },
  {
   "cell_type": "code",
   "execution_count": 981,
   "id": "a87778c8",
   "metadata": {},
   "outputs": [
    {
     "name": "stdout",
     "output_type": "stream",
     "text": [
      "value2\n"
     ]
    }
   ],
   "source": [
    "# Read values of individual cells\n",
    "\n",
    "xl_worksheet0['B2'].value = \"value2\"\n",
    "\n",
    "xl_workbook.save(file_path)\n",
    "\n",
    "cell_value = xl_worksheet0['B2'].value\n",
    "\n",
    "print(cell_value)"
   ]
  },
  {
   "cell_type": "code",
   "execution_count": 982,
   "id": "aef346f2",
   "metadata": {},
   "outputs": [
    {
     "name": "stdout",
     "output_type": "stream",
     "text": [
      "None\n"
     ]
    }
   ],
   "source": [
    "# Read values of individual cell containing no data\n",
    "\n",
    "cell_value = xl_worksheet0['B5'].value\n",
    "\n",
    "print(cell_value)"
   ]
  },
  {
   "cell_type": "code",
   "execution_count": 983,
   "id": "44ce6500",
   "metadata": {},
   "outputs": [
    {
     "name": "stdout",
     "output_type": "stream",
     "text": [
      "value2\n"
     ]
    }
   ],
   "source": [
    "cell_value = xl_worksheet0.cell(row=2, column=2).value\n",
    "\n",
    "print(cell_value)"
   ]
  },
  {
   "cell_type": "code",
   "execution_count": 984,
   "id": "2383adad",
   "metadata": {},
   "outputs": [
    {
     "name": "stdout",
     "output_type": "stream",
     "text": [
      "None\n"
     ]
    }
   ],
   "source": [
    "# Read values of individual cell containing no data\n",
    "\n",
    "cell_value = xl_worksheet0.cell(row=6, column=1).value\n",
    "\n",
    "print(cell_value)"
   ]
  },
  {
   "cell_type": "code",
   "execution_count": 985,
   "id": "69caa02c",
   "metadata": {},
   "outputs": [
    {
     "data": {
      "text/plain": [
       "((<Cell 'Sheet'.A1>, <Cell 'Sheet'.B1>),\n",
       " (<Cell 'Sheet'.A2>, <Cell 'Sheet'.B2>),\n",
       " (<Cell 'Sheet'.A3>, <Cell 'Sheet'.B3>),\n",
       " (<Cell 'Sheet'.A4>, <Cell 'Sheet'.B4>),\n",
       " (<Cell 'Sheet'.A5>, <Cell 'Sheet'.B5>))"
      ]
     },
     "execution_count": 985,
     "metadata": {},
     "output_type": "execute_result"
    }
   ],
   "source": [
    "# Read a range of values\n",
    "\n",
    "value_range = xl_worksheet0['A1':'B5']\n",
    "\n",
    "value_range"
   ]
  },
  {
   "cell_type": "code",
   "execution_count": 749,
   "id": "f640b91b",
   "metadata": {},
   "outputs": [
    {
     "name": "stdout",
     "output_type": "stream",
     "text": [
      "data1 value1\n",
      "data2 value2\n",
      "data3 value3\n",
      "None None\n",
      "None None\n"
     ]
    }
   ],
   "source": [
    "for a, b in value_range:\n",
    "\n",
    "    print(a.value, b.value)"
   ]
  },
  {
   "cell_type": "code",
   "execution_count": 750,
   "id": "edfd2eba",
   "metadata": {},
   "outputs": [
    {
     "data": {
      "text/plain": [
       "((<Cell 'Sheet'.A2>, <Cell 'Sheet'.B2>),\n",
       " (<Cell 'Sheet'.A3>, <Cell 'Sheet'.B3>),\n",
       " (<Cell 'Sheet'.A4>, <Cell 'Sheet'.B4>),\n",
       " (<Cell 'Sheet'.A5>, <Cell 'Sheet'.B5>))"
      ]
     },
     "execution_count": 750,
     "metadata": {},
     "output_type": "execute_result"
    }
   ],
   "source": [
    "# Read a range of values\n",
    "\n",
    "value_range = xl_worksheet0['A2':'B5']\n",
    "\n",
    "value_range"
   ]
  },
  {
   "cell_type": "code",
   "execution_count": 751,
   "id": "18a1a371",
   "metadata": {},
   "outputs": [
    {
     "name": "stdout",
     "output_type": "stream",
     "text": [
      "data2 value2\n",
      "data3 value3\n",
      "None None\n",
      "None None\n"
     ]
    }
   ],
   "source": [
    "for a, b in value_range:\n",
    "\n",
    "    print(a.value, b.value)"
   ]
  },
  {
   "cell_type": "code",
   "execution_count": 752,
   "id": "af1c3570",
   "metadata": {},
   "outputs": [
    {
     "data": {
      "text/plain": [
       "((<Cell 'Sheet'.A1>, <Cell 'Sheet'.B1>, <Cell 'Sheet'.C1>),\n",
       " (<Cell 'Sheet'.A2>, <Cell 'Sheet'.B2>, <Cell 'Sheet'.C2>),\n",
       " (<Cell 'Sheet'.A3>, <Cell 'Sheet'.B3>, <Cell 'Sheet'.C3>),\n",
       " (<Cell 'Sheet'.A4>, <Cell 'Sheet'.B4>, <Cell 'Sheet'.C4>),\n",
       " (<Cell 'Sheet'.A5>, <Cell 'Sheet'.B5>, <Cell 'Sheet'.C5>))"
      ]
     },
     "execution_count": 752,
     "metadata": {},
     "output_type": "execute_result"
    }
   ],
   "source": [
    " "
   ]
  },
  {
   "cell_type": "code",
   "execution_count": 753,
   "id": "0c6f4e48",
   "metadata": {},
   "outputs": [
    {
     "name": "stdout",
     "output_type": "stream",
     "text": [
      "data1 value1 None\n",
      "data2 value2 None\n",
      "data3 value3 None\n",
      "None None None\n",
      "None None None\n"
     ]
    }
   ],
   "source": [
    "for a, b, c in value_range:\n",
    "\n",
    "    print(a.value, b.value, c.value)"
   ]
  },
  {
   "cell_type": "code",
   "execution_count": 754,
   "id": "de524d31",
   "metadata": {},
   "outputs": [
    {
     "name": "stdout",
     "output_type": "stream",
     "text": [
      "<generator object Worksheet._cells_by_row at 0x00000000107BA8C0>\n"
     ]
    }
   ],
   "source": [
    "# Iterate over rows and columns using openpyxl\n",
    "rows = xl_worksheet0.iter_rows(min_row=1, max_row=7, min_col=1, max_col=2)\n",
    "print(rows)"
   ]
  },
  {
   "cell_type": "code",
   "execution_count": 755,
   "id": "6a46e2a3",
   "metadata": {},
   "outputs": [
    {
     "name": "stdout",
     "output_type": "stream",
     "text": [
      "(<Cell 'Sheet'.A1>, <Cell 'Sheet'.B1>)\n",
      "(<Cell 'Sheet'.A2>, <Cell 'Sheet'.B2>)\n",
      "(<Cell 'Sheet'.A3>, <Cell 'Sheet'.B3>)\n",
      "(<Cell 'Sheet'.A4>, <Cell 'Sheet'.B4>)\n",
      "(<Cell 'Sheet'.A5>, <Cell 'Sheet'.B5>)\n",
      "(<Cell 'Sheet'.A6>, <Cell 'Sheet'.B6>)\n",
      "(<Cell 'Sheet'.A7>, <Cell 'Sheet'.B7>)\n"
     ]
    }
   ],
   "source": [
    "for row in rows:\n",
    "    print(row)"
   ]
  },
  {
   "cell_type": "code",
   "execution_count": 772,
   "id": "427a5a76",
   "metadata": {},
   "outputs": [
    {
     "name": "stdout",
     "output_type": "stream",
     "text": [
      "data1 value1\n",
      "data2 value2\n",
      "data3 value3\n",
      "None None\n",
      "None None\n",
      "None None\n",
      "None None\n"
     ]
    }
   ],
   "source": [
    "# Iterate over rows and columns using openpyxl\n",
    "rows = xl_worksheet0.iter_rows(min_row=1, max_row=7, min_col=1, max_col=2)\n",
    "\n",
    "for a,b in rows:\n",
    "    print(a.value, b.value)"
   ]
  },
  {
   "cell_type": "code",
   "execution_count": 773,
   "id": "201b911d",
   "metadata": {},
   "outputs": [
    {
     "data": {
      "text/plain": [
       "4"
      ]
     },
     "execution_count": 773,
     "metadata": {},
     "output_type": "execute_result"
    }
   ],
   "source": [
    "xl_workbook = openpyxl.load_workbook(file_path)\n",
    "xl_worksheet0 = xl_workbook[xl_workbook.sheetnames[0]]\n",
    "\n",
    "num_rows = xl_worksheet0.max_row\n",
    "num_rows"
   ]
  },
  {
   "cell_type": "code",
   "execution_count": 774,
   "id": "7ba9c3b2",
   "metadata": {},
   "outputs": [
    {
     "name": "stdout",
     "output_type": "stream",
     "text": [
      "data1 value1\n",
      "data2 value2\n",
      "data3 value3\n",
      "None None\n"
     ]
    }
   ],
   "source": [
    "# Iterate over rows and columns using openpyxl\n",
    "rows = xl_worksheet0.iter_rows(min_row=1, max_row=num_rows, min_col=1, max_col=2)\n",
    "\n",
    "for a,b in rows:\n",
    "    print(a.value, b.value)"
   ]
  },
  {
   "cell_type": "code",
   "execution_count": 758,
   "id": "cba40905",
   "metadata": {},
   "outputs": [
    {
     "data": {
      "text/plain": [
       "(<Cell 'Sheet'.A1>,\n",
       " <Cell 'Sheet'.A2>,\n",
       " <Cell 'Sheet'.A3>,\n",
       " <Cell 'Sheet'.A4>,\n",
       " <Cell 'Sheet'.A5>,\n",
       " <Cell 'Sheet'.A6>,\n",
       " <Cell 'Sheet'.A7>)"
      ]
     },
     "execution_count": 758,
     "metadata": {},
     "output_type": "execute_result"
    }
   ],
   "source": [
    "# Read a range of values\n",
    "\n",
    "value_range = xl_worksheet0['A':'C']\n",
    "\n",
    "value_range"
   ]
  },
  {
   "cell_type": "code",
   "execution_count": 760,
   "id": "176bc4a0",
   "metadata": {},
   "outputs": [
    {
     "data": {
      "text/plain": [
       "(<Cell 'Sheet'.A1>,\n",
       " <Cell 'Sheet'.A2>,\n",
       " <Cell 'Sheet'.A3>,\n",
       " <Cell 'Sheet'.A4>,\n",
       " <Cell 'Sheet'.A5>,\n",
       " <Cell 'Sheet'.A6>,\n",
       " <Cell 'Sheet'.A7>)"
      ]
     },
     "execution_count": 760,
     "metadata": {},
     "output_type": "execute_result"
    }
   ],
   "source": [
    " "
   ]
  },
  {
   "cell_type": "code",
   "execution_count": 762,
   "id": "369bf8e8",
   "metadata": {},
   "outputs": [
    {
     "name": "stdout",
     "output_type": "stream",
     "text": [
      "data1\n",
      "data2\n",
      "data3\n",
      "None\n",
      "None\n",
      "None\n",
      "None\n"
     ]
    }
   ],
   "source": [
    "for a in value_range:\n",
    "\n",
    "    print(a.value)"
   ]
  },
  {
   "cell_type": "code",
   "execution_count": 695,
   "id": "65447428",
   "metadata": {},
   "outputs": [
    {
     "name": "stdout",
     "output_type": "stream",
     "text": [
      "['data1', 'data2', 'data3', None, None, None, None]\n",
      "['value1', 'value2', 'value3', None, None, None, None]\n"
     ]
    }
   ],
   "source": [
    "# Appending Excel Data to List\n",
    "data = xl_worksheet0.iter_rows(min_row=1, max_row=7, min_col=1, max_col=2)\n",
    "\n",
    "# iter_rows method is deprecated\n",
    "# should use worksheet['A1:C4'] to make a selection\n",
    "\n",
    "column1 = []\n",
    "column2 = []\n",
    "\n",
    "for j, k in data:\n",
    "    column1.append(j.value) \n",
    "    column2.append(k.value)\n",
    "\n",
    "print(column1)\n",
    "print(column2)"
   ]
  },
  {
   "cell_type": "code",
   "execution_count": 1024,
   "id": "aad2e88b",
   "metadata": {},
   "outputs": [],
   "source": [
    "# Create/overwrite a(n) (new) excel document using the Workbook class & the .save method\n",
    "from openpyxl import Workbook\n",
    "\n",
    "workbook = Workbook()\n",
    "sheet = workbook.active\n",
    "\n",
    "# Insert data into active workbook spreadsheet\n",
    "sheet[\"A1\"] = \"data1\"\n",
    "sheet[\"B1\"] = \"value1\"\n",
    "sheet[\"C1\"] = \"key1\"\n",
    "\n",
    "sheet[\"A2\"] = \"data2\"\n",
    "sheet[\"B2\"] = \"value2\"\n",
    "sheet[\"C2\"] = \"key2\"\n",
    "\n",
    "sheet[\"A3\"] = \"data3\"\n",
    "sheet[\"B3\"] = \"value3\"\n",
    "sheet[\"C3\"] = \"key3\"\n",
    "\n",
    "# It is important to save the workbook, or else the data will not be captured and may be discarded\n",
    "workbook.save(filename=file_path)"
   ]
  },
  {
   "cell_type": "code",
   "execution_count": 1030,
   "id": "4307a2a8",
   "metadata": {},
   "outputs": [],
   "source": [
    "# Clear values of selection/grid of cells\n",
    "\n",
    "xl_workbook = openpyxl.load_workbook(file_path)\n",
    "xl_worksheet0 = xl_workbook[xl_workbook.sheetnames[0]]\n",
    "\n",
    "num_rows = xl_worksheet0.max_row\n",
    "num_rows\n",
    "\n",
    "# Read a range of values\n",
    "value_range = xl_worksheet0['B2':'C3']\n",
    "\n",
    "value_range\n",
    "\n",
    "# xl_worksheet0['B2'].value = None\n",
    "# xl_worksheet0['B3'].value = None\n",
    "# xl_worksheet0['C2'].value = None\n",
    "# xl_worksheet0['C3'].value = None\n",
    "\n",
    "xl_workbook.save(file_path)"
   ]
  },
  {
   "cell_type": "code",
   "execution_count": 1031,
   "id": "0ceabcfa",
   "metadata": {},
   "outputs": [
    {
     "data": {
      "text/plain": [
       "((<Cell 'Sheet'.B2>, <Cell 'Sheet'.C2>),\n",
       " (<Cell 'Sheet'.B3>, <Cell 'Sheet'.C3>))"
      ]
     },
     "execution_count": 1031,
     "metadata": {},
     "output_type": "execute_result"
    }
   ],
   "source": [
    "value_range"
   ]
  },
  {
   "cell_type": "code",
   "execution_count": 1033,
   "id": "4ac85355",
   "metadata": {},
   "outputs": [
    {
     "name": "stdout",
     "output_type": "stream",
     "text": [
      "value2\n",
      "key2\n",
      "value3\n",
      "key3\n"
     ]
    }
   ],
   "source": [
    "for row in value_range:\n",
    "    for cell in row:\n",
    "        print(cell.value)"
   ]
  },
  {
   "cell_type": "code",
   "execution_count": 1036,
   "id": "d4775bdd",
   "metadata": {},
   "outputs": [],
   "source": [
    "for row in value_range:\n",
    "    for cell in row:\n",
    "        cell.value = None\n",
    "\n",
    "# Save the workbook\n",
    "xl_workbook.save(file_path)"
   ]
  },
  {
   "cell_type": "code",
   "execution_count": 1037,
   "id": "7f693eec",
   "metadata": {},
   "outputs": [
    {
     "data": {
      "text/plain": [
       "3"
      ]
     },
     "execution_count": 1037,
     "metadata": {},
     "output_type": "execute_result"
    }
   ],
   "source": [
    "num_rows"
   ]
  },
  {
   "cell_type": "code",
   "execution_count": 1061,
   "id": "76269eb2",
   "metadata": {},
   "outputs": [],
   "source": [
    "# Create/overwrite a(n) (new) excel document using the Workbook class & the .save method\n",
    "from openpyxl import Workbook\n",
    "\n",
    "workbook = Workbook()\n",
    "sheet = workbook.active\n",
    "\n",
    "# Insert data into active workbook spreadsheet\n",
    "sheet[\"A1\"] = \"data1\"\n",
    "sheet[\"B1\"] = \"value1\"\n",
    "sheet[\"C1\"] = \"key1\"\n",
    "\n",
    "sheet[\"A2\"] = \"data2\"\n",
    "sheet[\"B2\"] = \"value2\"\n",
    "sheet[\"C2\"] = \"key2\"\n",
    "\n",
    "sheet[\"A3\"] = \"data3\"\n",
    "sheet[\"B3\"] = \"value3\"\n",
    "sheet[\"C3\"] = \"key3\"\n",
    "\n",
    "# It is important to save the workbook, or else the data will not be captured and may be discarded\n",
    "workbook.save(filename=file_path)"
   ]
  },
  {
   "cell_type": "markdown",
   "id": "d15e966e",
   "metadata": {},
   "source": [
    "#### Creating/Deleting Worksheets using openpyxl"
   ]
  },
  {
   "cell_type": "code",
   "execution_count": 696,
   "id": "47c88d43",
   "metadata": {},
   "outputs": [],
   "source": [
    "# Creating a new Spreadsheet in an Excel Workbook using Python\n",
    "\n",
    "from openpyxl import Workbook\n",
    "\n",
    "workbook = Workbook()\n",
    "\n",
    "xl_workbook.create_sheet(\"New_Worksheet_00\")\n",
    "\n",
    "# Commit Changes to Exel Workbook once this program runs all the way through to this very last step without any errors, so error handling should be done before this step\n",
    "xl_workbook.save(filename=file_path)"
   ]
  },
  {
   "cell_type": "code",
   "execution_count": 697,
   "id": "d90e4b3d",
   "metadata": {},
   "outputs": [
    {
     "name": "stdout",
     "output_type": "stream",
     "text": [
      "Worksheet already exists\n"
     ]
    }
   ],
   "source": [
    "# Creating a new Spreadsheet in an Excel Workbook using Python\n",
    "\n",
    "from openpyxl import Workbook\n",
    "\n",
    "workbook = Workbook()\n",
    "\n",
    "xl_workbook = openpyxl.load_workbook(file_path)\n",
    "\n",
    "# Check if worksheet exists before creating it\n",
    "if \"New_Worksheet_00\" not in xl_workbook.sheetnames:\n",
    "    xl_workbook.create_sheet(\"New_Worksheet_0 0\")\n",
    "    # Commit Changes to Exel Workbook once this program runs all the way through to this very last step without any errors, so error handling should be done before this step\n",
    "    xl_workbook.save(filename=file_path)\n",
    "    print(\"Worksheet created\")\n",
    "else:\n",
    "    print(\"Worksheet already exists\")"
   ]
  },
  {
   "cell_type": "code",
   "execution_count": 698,
   "id": "dede85a4",
   "metadata": {},
   "outputs": [
    {
     "name": "stdout",
     "output_type": "stream",
     "text": [
      "Worksheet created\n"
     ]
    }
   ],
   "source": [
    "# Creating a new Spreadsheet in an Excel Workbook at different index/position using Python\n",
    "\n",
    "from openpyxl import Workbook\n",
    "\n",
    "workbook = Workbook()\n",
    "\n",
    "xl_workbook = openpyxl.load_workbook(file_path)\n",
    "\n",
    "# Check if worksheet exists before creating it\n",
    "if \"New_Worksheet_10\" not in xl_workbook.sheetnames:\n",
    "    xl_workbook.create_sheet(\"New_Worksheet_10\")\n",
    "    # Commit Changes to Exel Workbook once this program runs all the way through to this very last step without any errors, so error handling should be done before this step\n",
    "    xl_workbook.save(filename=file_path)\n",
    "    print(\"Worksheet created\")\n",
    "else:\n",
    "    print(\"Worksheet already exists\")"
   ]
  },
  {
   "cell_type": "code",
   "execution_count": 699,
   "id": "ef523532",
   "metadata": {},
   "outputs": [
    {
     "name": "stdout",
     "output_type": "stream",
     "text": [
      "Worksheet created\n"
     ]
    }
   ],
   "source": [
    "# Creating a new Spreadsheet in an Excel Workbook at different index/position using Python\n",
    "\n",
    "from openpyxl import Workbook\n",
    "\n",
    "workbook = Workbook()\n",
    "\n",
    "xl_workbook = openpyxl.load_workbook(file_path)\n",
    "\n",
    "# Check if worksheet exists before creating it\n",
    "if \"New_Worksheet_11\" not in xl_workbook.sheetnames:\n",
    "    xl_workbook.create_sheet(\"New_Worksheet_11\", 2)\n",
    "    # Commit Changes to Exel Workbook once this program runs all the way through to this very last step without any errors, so error handling should be done before this step\n",
    "    xl_workbook.save(filename=file_path)\n",
    "    print(\"Worksheet created\")\n",
    "else:\n",
    "    print(\"Worksheet already exists\")"
   ]
  },
  {
   "cell_type": "code",
   "execution_count": 700,
   "id": "c7c3edd9",
   "metadata": {},
   "outputs": [
    {
     "data": {
      "text/plain": [
       "['Sheet', 'New_Worksheet_00', 'New_Worksheet_11', 'New_Worksheet_10']"
      ]
     },
     "execution_count": 700,
     "metadata": {},
     "output_type": "execute_result"
    }
   ],
   "source": [
    "from openpyxl import Workbook\n",
    "\n",
    "workbook = Workbook()\n",
    "\n",
    "xl_workbook = openpyxl.load_workbook(file_path)\n",
    "\n",
    "xl_workbook.sheetnames"
   ]
  },
  {
   "cell_type": "code",
   "execution_count": 701,
   "id": "927f937b",
   "metadata": {},
   "outputs": [],
   "source": [
    "# Remove a Spreadsheet in an Excel Workbook using Python\n",
    "\n",
    "from openpyxl import Workbook\n",
    "\n",
    "workbook = Workbook()\n",
    "\n",
    "xl_workbook = openpyxl.load_workbook(file_path)\n",
    "\n",
    "xl_workbook.remove(xl_workbook['New_Worksheet_00'])\n",
    "xl_workbook.remove(xl_workbook['New_Worksheet_10'])\n",
    "xl_workbook.remove(xl_workbook['New_Worksheet_11'])\n",
    "\n",
    "# Commit Changes to Exel Workbook once this program runs all the way through to this very last step without any errors, so error handling should be done before this step\n",
    "xl_workbook.save(filename=file_path)"
   ]
  },
  {
   "cell_type": "code",
   "execution_count": 702,
   "id": "0e88ccf8",
   "metadata": {},
   "outputs": [
    {
     "data": {
      "text/plain": [
       "['Sheet']"
      ]
     },
     "execution_count": 702,
     "metadata": {},
     "output_type": "execute_result"
    }
   ],
   "source": [
    "from openpyxl import Workbook\n",
    "\n",
    "workbook = Workbook()\n",
    "\n",
    "xl_workbook = openpyxl.load_workbook(file_path)\n",
    "\n",
    "xl_workbook.sheetnames"
   ]
  },
  {
   "cell_type": "code",
   "execution_count": null,
   "id": "d0cc0bbb",
   "metadata": {},
   "outputs": [],
   "source": [
    "# Rename a Spreadsheet in an Excel Workbook\n",
    "xl_workbook = openpyxl.load_workbook(file_path)\n",
    "xl_worksheet0 = xl_workbook[xl_workbook.sheetnames[0]]\n",
    "\n",
    "xl_worksheet0.title = \"Worksheet\"\n",
    "\n",
    "# Commit Changes to Exel Workbook once this program runs all the way through to this very last step without any errors, so error handling should be done before this step\n",
    "xl_workbook.save(filename=file_path)"
   ]
  },
  {
   "cell_type": "code",
   "execution_count": 703,
   "id": "f4fdb4d3",
   "metadata": {},
   "outputs": [],
   "source": [
    "# Rename a Spreadsheet in an Excel Workbook\n",
    "\n",
    "from openpyxl import Workbook\n",
    "\n",
    "workbook = Workbook()\n",
    "\n",
    "xl_workbook = openpyxl.load_workbook(file_path)\n",
    "\n",
    "sheet = xl_workbook['Sheet']\n",
    "\n",
    "sheet.title = \"Sheet1\"\n",
    "\n",
    "# Commit Changes to Exel Workbook once this program runs all the way through to this very last step without any errors, so error handling should be done before this step\n",
    "xl_workbook.save(filename=file_path)"
   ]
  },
  {
   "cell_type": "code",
   "execution_count": 704,
   "id": "870f696f",
   "metadata": {},
   "outputs": [
    {
     "data": {
      "text/plain": [
       "['Sheet1']"
      ]
     },
     "execution_count": 704,
     "metadata": {},
     "output_type": "execute_result"
    }
   ],
   "source": [
    "from openpyxl import Workbook\n",
    "\n",
    "workbook = Workbook()\n",
    "\n",
    "xl_workbook = openpyxl.load_workbook(file_path)\n",
    "\n",
    "xl_workbook.sheetnames"
   ]
  },
  {
   "cell_type": "markdown",
   "id": "5c4b6436",
   "metadata": {},
   "source": [
    "#### Formulae in Excel using openpyxl"
   ]
  },
  {
   "cell_type": "code",
   "execution_count": 715,
   "id": "2cc079b7",
   "metadata": {},
   "outputs": [
    {
     "name": "stdout",
     "output_type": "stream",
     "text": [
      "Rows:  3\n",
      "Columns:  2\n"
     ]
    }
   ],
   "source": [
    "# Here is a function to get the number of non empty rows in an excel worksheet\n",
    "\n",
    "xl_workbook = openpyxl.load_workbook(file_path)\n",
    "worksheet = xl_workbook.active\n",
    "\n",
    "print(\"Rows: \", worksheet.max_row)\n",
    "print(\"Columns: \", worksheet.max_column)"
   ]
  },
  {
   "cell_type": "code",
   "execution_count": 716,
   "id": "4c64f5e7",
   "metadata": {},
   "outputs": [],
   "source": [
    "# Here is a function to get the number of non empty rows in an excel worksheet\n",
    "\n",
    "xl_workbook = openpyxl.load_workbook(file_path)\n",
    "worksheet = xl_workbook.active\n",
    "\n",
    "def row_count(file_path):\n",
    "    \n",
    "    count = 0\n",
    "    \n",
    "    for row in worksheet:\n",
    "        \n",
    "        if not all([cell.value is None for cell in row]):\n",
    "            count += 1\n",
    "            \n",
    "    return count"
   ]
  },
  {
   "cell_type": "code",
   "execution_count": 717,
   "id": "fcd56d62",
   "metadata": {},
   "outputs": [
    {
     "data": {
      "text/plain": [
       "3"
      ]
     },
     "execution_count": 717,
     "metadata": {},
     "output_type": "execute_result"
    }
   ],
   "source": [
    "row_count(file_path)"
   ]
  },
  {
   "cell_type": "code",
   "execution_count": 718,
   "id": "7c48d786",
   "metadata": {},
   "outputs": [],
   "source": [
    "# Create/overwrite a(n) (new) excel document using the Workbook class & the .save method\n",
    "from openpyxl import Workbook\n",
    "\n",
    "workbook = Workbook()\n",
    "sheet = workbook.active\n",
    "\n",
    "# Insert data into active workbook spreadsheet\n",
    "sheet[\"A1\"] = 26\n",
    "sheet[\"B1\"] = 45\n",
    "\n",
    "sheet[\"A2\"] = 65\n",
    "sheet[\"B2\"] = 34\n",
    "\n",
    "sheet[\"A3\"] = 76\n",
    "sheet[\"B3\"] = 67\n",
    "\n",
    "# specify the file path, name and format for the Excel document to be saved\n",
    "file_path = r\"this_document_is_automatically_generated_using_openpyxl_for_testing_purposes_and_may_be_deleted.xlsx\"\n",
    "\n",
    "# It is important to save the workbook, or else the data will not be captured and may be discarded\n",
    "workbook.save(filename=file_path)"
   ]
  },
  {
   "cell_type": "code",
   "execution_count": 719,
   "id": "762ed1a7",
   "metadata": {},
   "outputs": [
    {
     "data": {
      "text/plain": [
       "3"
      ]
     },
     "execution_count": 719,
     "metadata": {},
     "output_type": "execute_result"
    }
   ],
   "source": [
    " "
   ]
  },
  {
   "cell_type": "code",
   "execution_count": 720,
   "id": "bf8d8ab9",
   "metadata": {},
   "outputs": [],
   "source": [
    "sheet[\"A6\"] = \"=SUM(A1:A3)\"\n",
    "sheet[\"B6\"] = \"=AVERAGE(B1:B3)\"\n",
    "\n",
    "# specify the file path, name and format for the Excel document to be saved\n",
    "file_path = r\"this_document_is_automatically_generated_using_openpyxl_for_testing_purposes_and_may_be_deleted.xlsx\"\n",
    "\n",
    "# It is important to save the workbook, or else the data will not be captured and may be discarded\n",
    "workbook.save(filename=file_path)"
   ]
  },
  {
   "cell_type": "code",
   "execution_count": 721,
   "id": "1576f850",
   "metadata": {},
   "outputs": [],
   "source": [
    "sheet[\"A6\"] = \"\"\n",
    "sheet[\"B6\"] = \"\"\n",
    "\n",
    "# specify the file path, name and format for the Excel document to be saved\n",
    "file_path = r\"this_document_is_automatically_generated_using_openpyxl_for_testing_purposes_and_may_be_deleted.xlsx\"\n",
    "\n",
    "# It is important to save the workbook, or else the data will not be captured and may be discarded\n",
    "workbook.save(filename=file_path)"
   ]
  },
  {
   "cell_type": "code",
   "execution_count": 722,
   "id": "3be5e08a",
   "metadata": {},
   "outputs": [],
   "source": [
    "sheet[\"A6\"] = f\"=SUM(A1:A{rows})\"\n",
    "\n",
    "sheet[\"B6\"] = f\"=AVERAGE(B1:B{rows})\"\n",
    "\n",
    "# specify the file path, name and format for the Excel document to be saved\n",
    "file_path = r\"this_document_is_automatically_generated_using_openpyxl_for_testing_purposes_and_may_be_deleted.xlsx\"\n",
    "\n",
    "# It is important to save the workbook, or else the data will not be captured and may be discarded\n",
    "workbook.save(filename=file_path)"
   ]
  },
  {
   "cell_type": "code",
   "execution_count": 725,
   "id": "383ba4a2",
   "metadata": {},
   "outputs": [],
   "source": [
    "sheet[f\"A{rows+3}\"] = f\"=SUM(A1:A{rows})\"\n",
    "\n",
    "sheet[f\"B{rows+3}\"] = f\"=AVERAGE(B1:B{rows})\"\n",
    "\n",
    "# specify the file path, name and format for the Excel document to be saved\n",
    "file_path = r\"this_document_is_automatically_generated_using_openpyxl_for_testing_purposes_and_may_be_deleted.xlsx\"\n",
    "\n",
    "# It is important to save the workbook, or else the data will not be captured and may be discarded\n",
    "workbook.save(filename=file_path)"
   ]
  },
  {
   "cell_type": "code",
   "execution_count": 726,
   "id": "50936b4a",
   "metadata": {},
   "outputs": [],
   "source": [
    "sheet[f\"A{rows+3}\"] = \"\"\n",
    "\n",
    "sheet[f\"B{rows+3}\"] = \"\"\n",
    "\n",
    "# specify the file path, name and format for the Excel document to be saved\n",
    "file_path = r\"this_document_is_automatically_generated_using_openpyxl_for_testing_purposes_and_may_be_deleted.xlsx\"\n",
    "\n",
    "# It is important to save the workbook, or else the data will not be captured and may be discarded\n",
    "workbook.save(filename=file_path)"
   ]
  },
  {
   "cell_type": "markdown",
   "id": "d625ad1f",
   "metadata": {},
   "source": [
    "#### Styling/Formatting Excel Document using openpyxl"
   ]
  },
  {
   "cell_type": "code",
   "execution_count": 1045,
   "id": "5028a07c",
   "metadata": {},
   "outputs": [],
   "source": [
    "import openpyxl\n",
    "from openpyxl.styles import Font"
   ]
  },
  {
   "cell_type": "code",
   "execution_count": 1048,
   "id": "790a582f",
   "metadata": {},
   "outputs": [],
   "source": [
    "# Changing the color & Font\n",
    "\n",
    "wb = openpyxl.load_workbook(file_path)\n",
    "sheet = wb.active\n",
    "\n",
    "cell = sheet[\"A1\"]\n",
    "cell.font = Font(size=12)\n",
    "cell.value = \"Hello\"\n",
    "\n",
    "cell2 = sheet[\"A2\"]\n",
    "cell2.font = Font(name=\"Arial\", size=14, color=\"00FF0000\")\n",
    "\n",
    "sheet[\"A2\"] = \"from\"\n",
    "\n",
    "cell2 = sheet[\"A3\"]\n",
    "cell2.font = Font(name=\"Tahoma\", size=16, color=\"00339966\")\n",
    "\n",
    "sheet[\"A3\"] = \"OpenPyXL\"\n",
    "\n",
    "wb.save(file_path)"
   ]
  },
  {
   "cell_type": "code",
   "execution_count": 1056,
   "id": "7e88f30a",
   "metadata": {},
   "outputs": [],
   "source": [
    "# Changing the Alignment and the text rotation\n",
    "\n",
    "from openpyxl.styles import Alignment\n",
    "\n",
    "wb = openpyxl.load_workbook(file_path)\n",
    "sheet = wb.active\n",
    "\n",
    "sheet[\"A3\"] = \"OpenPyXL\"\n",
    "sheet[\"A3\"].alignment = Alignment(text_rotation=90)\n",
    "\n",
    "# save changes\n",
    "wb.save(file_path)"
   ]
  },
  {
   "cell_type": "code",
   "execution_count": 1063,
   "id": "32a00440",
   "metadata": {},
   "outputs": [],
   "source": [
    "# Changing the cell colors of each second row\n",
    "\n",
    "from openpyxl.styles import PatternFill\n",
    "\n",
    "wb = openpyxl.load_workbook(file_path) \n",
    "sheet = wb.active\n",
    "\n",
    "# Define color\n",
    "yellow = \"00FFFF00\"\n",
    "\n",
    "for rows in sheet.iter_rows(min_row=1, max_row=10, min_col=1, max_col=12):\n",
    "    for cell in rows:\n",
    "        if cell.row % 2:\n",
    "            cell.fill = PatternFill(start_color=yellow, end_color=yellow, fill_type = \"solid\")\n",
    "\n",
    "# Save Changes\n",
    "wb.save(file_path)"
   ]
  },
  {
   "cell_type": "code",
   "execution_count": 1042,
   "id": "46330b83",
   "metadata": {},
   "outputs": [],
   "source": [
    "# Set the border of a specific cell\n",
    "\n",
    "from openpyxl.styles.borders import Border, Side\n",
    "from openpyxl import Workbook\n",
    "\n",
    "# Set the border style\n",
    "thin_border = Border(left=Side(style='thin'), \n",
    "                     right=Side(style='thin'), \n",
    "                     top=Side(style='thin'), \n",
    "                     bottom=Side(style='thin'))\n",
    "\n",
    "# load workbook/worksheet\n",
    "wb =  openpyxl.load_workbook(file_path)\n",
    "ws = wb.active\n",
    "\n",
    "# property cell.border should be used instead of cell.style.border\n",
    "ws.cell(row=3, column=2).border = thin_border\n",
    "\n",
    "# save changes\n",
    "wb.save(file_path)"
   ]
  },
  {
   "cell_type": "code",
   "execution_count": 1040,
   "id": "a4d9a547",
   "metadata": {},
   "outputs": [],
   "source": [
    "# Adding border to a selection of cells\n",
    "\n",
    "import openpyxl\n",
    "from openpyxl.styles import borders\n",
    "from openpyxl.styles.borders import Border\n",
    "\n",
    "wb = openpyxl.load_workbook(file_path)\n",
    "ws = wb.active\n",
    "\n",
    "# Define two types of borders\n",
    "border1 = borders.Side(style = None, color = 'FF000000', border_style = 'thin')\n",
    "border0 = borders.Side(style = None, color = None, border_style = None)\n",
    "\n",
    "thin = Border(left = border1, right = border0, bottom = border0, top = border0)\n",
    "\n",
    "# Set selection of cells\n",
    "for row in ws.iter_rows(min_row=1, min_col=3, max_row=20, max_col=3):\n",
    "    for cell in row:\n",
    "        cell.border = thin\n",
    "        \n",
    "# Save changes\n",
    "wb.save(file_path)"
   ]
  },
  {
   "cell_type": "markdown",
   "id": "bf7ac041",
   "metadata": {},
   "source": [
    "#### Graphs, Charts & Images in Excel using openpyxl"
   ]
  },
  {
   "cell_type": "code",
   "execution_count": 1066,
   "id": "a9cbcdb0",
   "metadata": {},
   "outputs": [],
   "source": [
    "from openpyxl import Workbook  \n",
    "from openpyxl.chart import BarChart, Reference\n",
    "  \n",
    "wb = Workbook()  \n",
    "sheet = wb.active\n",
    "  \n",
    "# Let's create some sample student data  \n",
    "rows = [\n",
    "    [\"Serial_no\", \"Roll no\", \"Marks\"],\n",
    "    [1, \"0090011\", 75],\n",
    "    [2, \"0090012\", 60],\n",
    "    [3, \"0090013\", 43],\n",
    "    [4, \"0090014\", 97],\n",
    "    [5, \"0090015\", 63],\n",
    "    [6, \"0090016\", 54],\n",
    "    [7, \"0090017\", 86],\n",
    "]\n",
    "  \n",
    "for i in rows:\n",
    "    sheet.append(i)\n",
    "  \n",
    "chart = BarChart()\n",
    "\n",
    "values = Reference(worksheet=sheet,\n",
    "                 min_row=1,\n",
    "                 max_row=8,\n",
    "                 min_col=2,\n",
    "                 max_col=3)  \n",
    "\n",
    "chart.add_data(values, titles_from_data=True)\n",
    "sheet.add_chart(chart, \"E2\")\n",
    "  \n",
    "# Save Changes\n",
    "wb.save(\"bargraph.xlsx\")"
   ]
  },
  {
   "cell_type": "code",
   "execution_count": 1065,
   "id": "dbaea572",
   "metadata": {},
   "outputs": [],
   "source": [
    "import random  \n",
    "from openpyxl import Workbook  \n",
    "from openpyxl.chart import LineChart, Reference  \n",
    "  \n",
    "wb = Workbook()  \n",
    "spreadsheet = wb.active\n",
    "  \n",
    "# Let's create some sample data  \n",
    "rows = [\n",
    "    [\"\", \"January\", \"February\", \"March\", \"April\",\n",
    "    \"May\", \"June\", \"July\", \"August\", \"September\",\n",
    "     \"October\", \"November\", \"December\"],\n",
    "    [1, ],\n",
    "    [2, ],\n",
    "    [3, ],\n",
    "]\n",
    "\n",
    "for row in rows:\n",
    "    spreadsheet.append(row)\n",
    "    \n",
    "for row in spreadsheet.iter_rows(min_row=2,\n",
    "                           max_row=4,\n",
    "                           min_col=2,\n",
    "                           max_col=13):\n",
    "    for cell in row:\n",
    "        cell.value = random.randrange(5, 100)\n",
    "  \n",
    "chart = LineChart()\n",
    "data = Reference(worksheet=spreadsheet,\n",
    "                 min_row=2,\n",
    "                 max_row=4,\n",
    "                 min_col=1,\n",
    "                 max_col=13)\n",
    "  \n",
    "chart.add_data(data, from_rows=True, titles_from_data=True)\n",
    "spreadsheet.add_chart(chart, \"C6\")\n",
    "  \n",
    "wb.save(\"linegraph.xlsx\")"
   ]
  },
  {
   "cell_type": "code",
   "execution_count": 1071,
   "id": "35bbe188",
   "metadata": {},
   "outputs": [],
   "source": [
    "from openpyxl import load_workbook\n",
    "from openpyxl.drawing.image import Image\n",
    "  \n",
    "wb = Workbook()\n",
    "sheet = wb.active\n",
    "  \n",
    "logo = Image(r\"resources/image.jpg\")\n",
    "  \n",
    "# A bit of resizing to not fill the whole spreadsheet with the logo\n",
    "logo.height = 150\n",
    "logo.width = 150\n",
    "  \n",
    "sheet.add_image(logo, \"B2\")\n",
    "wb.save(filename=\"image.xlsx\")"
   ]
  },
  {
   "cell_type": "code",
   "execution_count": null,
   "id": "d1eb69b6",
   "metadata": {},
   "outputs": [],
   "source": []
  }
 ],
 "metadata": {
  "kernelspec": {
   "display_name": "Python 3 (ipykernel)",
   "language": "python",
   "name": "python3"
  },
  "language_info": {
   "codemirror_mode": {
    "name": "ipython",
    "version": 3
   },
   "file_extension": ".py",
   "mimetype": "text/x-python",
   "name": "python",
   "nbconvert_exporter": "python",
   "pygments_lexer": "ipython3",
   "version": "3.11.2"
  }
 },
 "nbformat": 4,
 "nbformat_minor": 5
}
